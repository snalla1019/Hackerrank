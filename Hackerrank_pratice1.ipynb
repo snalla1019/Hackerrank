{
 "cells": [
  {
   "cell_type": "code",
   "execution_count": 8,
   "metadata": {},
   "outputs": [
    {
     "name": "stdout",
     "output_type": "stream",
     "text": [
      "-57\n"
     ]
    }
   ],
   "source": [
    "from array import array\n",
    "arr=array('l',[57,57,-57,57])\n",
    "max_val=arr[0]\n",
    "pre_max=arr[0]\n",
    "for i in range(len(arr)):\n",
    "    if arr[i]>max_val:\n",
    "        max_val=arr[i]\n",
    "\n",
    "for i in range(len(arr)):\n",
    "    if (arr[i]<max_val):\n",
    "        if arr[i]>=pre_max:\n",
    "            pre_max=arr[i]         \n",
    "    else:\n",
    "        if (i+1!=len(arr)):\n",
    "            pre_max=arr[i+1]\n",
    "\n",
    "print(pre_max)\n"
   ]
  },
  {
   "cell_type": "code",
   "execution_count": null,
   "metadata": {
    "collapsed": true
   },
   "outputs": [],
   "source": [
    "lowest=[]\n",
    "secondLowest=[]\n",
    "for _ in range(int(raw_input())):\n",
    "    name=raw_input()\n",
    "    score=float(raw_input())\n",
    "    if len(lowest)==0:\n",
    "        #initialize lowest list\n",
    "        lowest=[ [name,score] ]\n",
    "    elif score < lowest[0][1]:\n",
    "        secondLowest=lowest\n",
    "        lowest=[ [name,score] ]\n",
    "    elif score == lowest[0][1]:\n",
    "        lowest.append( [name,score] )\n",
    "    elif len(secondLowest)==0:\n",
    "        secondLowest=[ [name,score] ]\n",
    "    elif score < secondLowest[0][1]:\n",
    "        secondLowest=[ [name,score] ]\n",
    "    elif score == secondLowest[0][1]:\n",
    "        secondLowest.append( [name,score] )\n",
    "names=[item[0] for item in secondLowest]\n",
    "for name in sorted(names):\n",
    "    print name"
   ]
  },
  {
   "cell_type": "code",
   "execution_count": 15,
   "metadata": {},
   "outputs": [
    {
     "data": {
      "text/plain": [
       "4"
      ]
     },
     "execution_count": 15,
     "metadata": {},
     "output_type": "execute_result"
    }
   ],
   "source": [
    "arr={'Krishna': [67.0, 68.0, 69.0,5], 'Malika': [52.0, 56.0, 60.0], 'Arjun': [70.0, 98.0, 63.0]}\n",
    "arr['Krishna'][0]\n",
    "len(arr['Krishna'])"
   ]
  },
  {
   "cell_type": "code",
   "execution_count": 7,
   "metadata": {},
   "outputs": [
    {
     "data": {
      "text/plain": [
       "['0', 'append']"
      ]
     },
     "execution_count": 7,
     "metadata": {},
     "output_type": "execute_result"
    }
   ],
   "source": [
    "if __name__ == '__main__':\n",
    "    N = int(raw_input())\n",
    "    output = []\n",
    "    for n in range(N):\n",
    "        x = input().split(\" \")\n",
    "        command=x[0]\n",
    "        if command==\"print\":\n",
    "            print(output)\n",
    "        if command==\"append\":\n",
    "            output.append(x[1])\n",
    "        if command==\"insert\":\n",
    "            output.insert(x[1],x[2])\n",
    "        if command==\"pop\":\n",
    "            output.pop()\n",
    "        if command==\"remove\":\n",
    "            output.remove(x[-1])\n",
    "        if command==\"sort\":\n",
    "            output.sort()\n",
    "        if command==\"reverse\":\n",
    "            output.reverse()   "
   ]
  },
  {
   "cell_type": "code",
   "execution_count": 15,
   "metadata": {},
   "outputs": [
    {
     "name": "stdout",
     "output_type": "stream",
     "text": [
      "this-is-a-string\n"
     ]
    }
   ],
   "source": [
    "k='this is a string'\n",
    "out=k.split(\" \")\n",
    "#print(k)\n",
    "y=\"-\".join(out)\n",
    "print(y)"
   ]
  },
  {
   "cell_type": "code",
   "execution_count": 29,
   "metadata": {},
   "outputs": [
    {
     "name": "stdout",
     "output_type": "stream",
     "text": [
      "Hello  one two Bue\n"
     ]
    }
   ],
   "source": [
    "def print_full_name(a, b):\n",
    "    #print(\"Hello '{0}, {1}'! You just delved into python. .format(a,b)\")\n",
    "    k='{0} {1}'.format(a,b)\n",
    "    print(\"Hello\",k,\"! You just delved into python.\")"
   ]
  },
  {
   "cell_type": "code",
   "execution_count": 36,
   "metadata": {},
   "outputs": [
    {
     "name": "stdout",
     "output_type": "stream",
     "text": [
      "['a', 'b', 'r', 'a', 'c', 'a', 'd', 'a', 'b', 'r', 'a']\n",
      "abrackdabra\n"
     ]
    }
   ],
   "source": [
    "string = \"abracadabra\"\n",
    "l = list(string)\n",
    "print(l)\n",
    "l[5] = 'k'\n",
    "string = ''.join(l)\n",
    "print(string)"
   ]
  },
  {
   "cell_type": "code",
   "execution_count": 66,
   "metadata": {},
   "outputs": [
    {
     "name": "stdout",
     "output_type": "stream",
     "text": [
      "i= 0\n",
      "j= 0\n",
      "j= 1\n",
      "j= 2\n",
      "sum= CDE\n",
      "j= 3\n",
      "j= 4\n",
      "j= 5\n",
      "sum= CDE\n",
      "j= 6\n"
     ]
    },
    {
     "ename": "IndexError",
     "evalue": "string index out of range",
     "output_type": "error",
     "traceback": [
      "\u001b[1;31m---------------------------------------------------------------------------\u001b[0m",
      "\u001b[1;31mIndexError\u001b[0m                                Traceback (most recent call last)",
      "\u001b[1;32m<ipython-input-66-5231204a32d3>\u001b[0m in \u001b[0;36m<module>\u001b[1;34m()\u001b[0m\n\u001b[0;32m      8\u001b[0m     \u001b[1;32mfor\u001b[0m \u001b[0mj\u001b[0m \u001b[1;32min\u001b[0m \u001b[0mrange\u001b[0m\u001b[1;33m(\u001b[0m\u001b[0mn1\u001b[0m\u001b[1;33m-\u001b[0m\u001b[1;36m1\u001b[0m\u001b[1;33m)\u001b[0m\u001b[1;33m:\u001b[0m\u001b[1;33m\u001b[0m\u001b[0m\n\u001b[0;32m      9\u001b[0m         \u001b[0mprint\u001b[0m\u001b[1;33m(\u001b[0m\u001b[1;34m\"j=\"\u001b[0m\u001b[1;33m,\u001b[0m\u001b[0mj\u001b[0m\u001b[1;33m)\u001b[0m\u001b[1;33m\u001b[0m\u001b[0m\n\u001b[1;32m---> 10\u001b[1;33m         \u001b[1;32mif\u001b[0m \u001b[1;33m(\u001b[0m\u001b[1;33m(\u001b[0m\u001b[0mj\u001b[0m\u001b[1;33m+\u001b[0m\u001b[1;36m2\u001b[0m\u001b[1;33m)\u001b[0m\u001b[1;33m>=\u001b[0m \u001b[0mi\u001b[0m\u001b[1;33m)\u001b[0m \u001b[1;33m&\u001b[0m \u001b[1;33m(\u001b[0m\u001b[0msub_string\u001b[0m\u001b[1;33m==\u001b[0m\u001b[0mstring\u001b[0m\u001b[1;33m[\u001b[0m\u001b[0mj\u001b[0m\u001b[1;33m]\u001b[0m\u001b[1;33m+\u001b[0m\u001b[0mstring\u001b[0m\u001b[1;33m[\u001b[0m\u001b[0mj\u001b[0m\u001b[1;33m+\u001b[0m\u001b[1;36m1\u001b[0m\u001b[1;33m]\u001b[0m\u001b[1;33m+\u001b[0m\u001b[0mstring\u001b[0m\u001b[1;33m[\u001b[0m\u001b[0mj\u001b[0m\u001b[1;33m+\u001b[0m\u001b[1;36m2\u001b[0m\u001b[1;33m]\u001b[0m\u001b[1;33m)\u001b[0m\u001b[1;33m:\u001b[0m\u001b[1;33m\u001b[0m\u001b[0m\n\u001b[0m\u001b[0;32m     11\u001b[0m             \u001b[0mprint\u001b[0m\u001b[1;33m(\u001b[0m\u001b[1;34m\"sum=\"\u001b[0m\u001b[1;33m,\u001b[0m\u001b[0mstring\u001b[0m\u001b[1;33m[\u001b[0m\u001b[0mj\u001b[0m\u001b[1;33m]\u001b[0m\u001b[1;33m+\u001b[0m\u001b[0mstring\u001b[0m\u001b[1;33m[\u001b[0m\u001b[0mj\u001b[0m\u001b[1;33m+\u001b[0m\u001b[1;36m1\u001b[0m\u001b[1;33m]\u001b[0m\u001b[1;33m+\u001b[0m\u001b[0mstring\u001b[0m\u001b[1;33m[\u001b[0m\u001b[0mj\u001b[0m\u001b[1;33m+\u001b[0m\u001b[1;36m2\u001b[0m\u001b[1;33m]\u001b[0m\u001b[1;33m)\u001b[0m\u001b[1;33m\u001b[0m\u001b[0m\n\u001b[0;32m     12\u001b[0m             \u001b[0mcount\u001b[0m\u001b[1;33m=\u001b[0m\u001b[0mcount\u001b[0m\u001b[1;33m+\u001b[0m\u001b[1;36m1\u001b[0m\u001b[1;33m\u001b[0m\u001b[0m\n",
      "\u001b[1;31mIndexError\u001b[0m: string index out of range"
     ]
    }
   ],
   "source": [
    "string='ABCDECDE'\n",
    "sub_string='CDE'\n",
    "n1=len(string)\n",
    "n2=len(sub_string)\n",
    "count=0\n",
    "for i in range(n2):\n",
    "    print(\"i=\",i)\n",
    "    for j in range(n1-1):\n",
    "        print(\"j=\",j)\n",
    "        if ((j+2)>= i) & (sub_string==string[j]+string[j+1]+string[j+2]):\n",
    "            print(\"sum=\",string[j]+string[j+1]+string[j+2])\n",
    "            count=count+1\n",
    "            #print(count)\n",
    "print(count)\n",
    "            "
   ]
  },
  {
   "cell_type": "code",
   "execution_count": 70,
   "metadata": {},
   "outputs": [
    {
     "name": "stdout",
     "output_type": "stream",
     "text": [
      "<generator object <genexpr> at 0x0000026CE2CDC200>\n"
     ]
    }
   ],
   "source": [
    "s='aq1A'\n",
    "print(c.lower() for c in s)\n",
    "for test in ('isalnum', 'isalpha', 'isdigit', 'islower', 'isupper'):\n",
    "        any(eval(\"c.\" + test + \"()\") for c in s)"
   ]
  },
  {
   "cell_type": "code",
   "execution_count": 72,
   "metadata": {},
   "outputs": [
    {
     "name": "stdout",
     "output_type": "stream",
     "text": [
      "0\n",
      "5\n",
      "10\n",
      "15\n"
     ]
    }
   ],
   "source": [
    "for i in range(0,20,5):\n",
    "    print(i)"
   ]
  },
  {
   "cell_type": "code",
   "execution_count": 10,
   "metadata": {},
   "outputs": [
    {
     "name": "stdout",
     "output_type": "stream",
     "text": [
      "--------e--------\n",
      "------e-d-e------\n",
      "----e-d-c-d-e----\n",
      "--e-d-c-b-c-d-e--\n",
      "e-d-c-b-a-b-c-d-e\n",
      "--e-d-c-b-c-d-e--\n",
      "----e-d-c-d-e----\n",
      "------e-d-e------\n",
      "--------e--------\n"
     ]
    }
   ],
   "source": [
    "import string\n",
    "alpha = string.ascii_lowercase\n",
    "\n",
    "n = 5\n",
    "L = []\n",
    "\n",
    "for i in range(n):\n",
    "    s = \"-\".join(alpha[i:n])\n",
    "    L.append(s[::-1]+s[1:])\n",
    "\n",
    "width = len(L[0])\n",
    "\n",
    "for i in range(n-1, 0, -1):\n",
    "    print(L[i].center(width, \"-\"))\n",
    "\n",
    "for i in range(n):\n",
    "    print(L[i].center(width, \"-\"))"
   ]
  },
  {
   "cell_type": "code",
   "execution_count": 15,
   "metadata": {},
   "outputs": [
    {
     "name": "stdout",
     "output_type": "stream",
     "text": [
      "a-b-c-d-e\n",
      "['e-d-c-b-a-b-c-d-e']\n",
      "b-c-d-e\n",
      "['e-d-c-b-a-b-c-d-e', 'e-d-c-b-c-d-e']\n",
      "c-d-e\n",
      "['e-d-c-b-a-b-c-d-e', 'e-d-c-b-c-d-e', 'e-d-c-d-e']\n",
      "d-e\n",
      "['e-d-c-b-a-b-c-d-e', 'e-d-c-b-c-d-e', 'e-d-c-d-e', 'e-d-e']\n",
      "e\n",
      "['e-d-c-b-a-b-c-d-e', 'e-d-c-b-c-d-e', 'e-d-c-d-e', 'e-d-e', 'e']\n",
      "17\n",
      "--------e--------\n",
      "------e-d-e------\n",
      "----e-d-c-d-e----\n",
      "--e-d-c-b-c-d-e--\n",
      "e-d-c-b-a-b-c-d-e\n",
      "--e-d-c-b-c-d-e--\n",
      "----e-d-c-d-e----\n",
      "------e-d-e------\n",
      "--------e--------\n"
     ]
    }
   ],
   "source": [
    "import string\n",
    "alpha = string.ascii_lowercase\n",
    "\n",
    "n = 5\n",
    "L = []\n",
    "for i in range(n):\n",
    "    s = \"-\".join(alpha[i:n])\n",
    "    print(s)\n",
    "    L.append(s[::-1]+s[1:])\n",
    "    print(L)\n",
    "\n",
    "width = len(L[0])\n",
    "print(width)\n",
    "\n",
    "for i in range(n-1, 0, -1):\n",
    "    print(L[i].center(width, \"-\"))\n",
    "\n",
    "for i in range(n):\n",
    "    print(L[i].center(width,\"-\"))\n"
   ]
  },
  {
   "cell_type": "code",
   "execution_count": 108,
   "metadata": {},
   "outputs": [
    {
     "name": "stdout",
     "output_type": "stream",
     "text": [
      "Saii jkharanya hey\n",
      "saii\n",
      "-----Here------\n"
     ]
    },
    {
     "data": {
      "text/plain": [
       "'Saii Jkharanya Hey'"
      ]
     },
     "execution_count": 108,
     "metadata": {},
     "output_type": "execute_result"
    }
   ],
   "source": [
    "import string\n",
    "s='saii jKharanya hey'\n",
    "L=[]\n",
    "print(s.capitalize())\n",
    "new=[]\n",
    "L.append(s.split(\" \"))\n",
    "#print((L))\n",
    "print(L[0][0])\n",
    "\n",
    "#for i in range(len(L[0])):\n",
    "    #print(i)\n",
    "    #print(L[i])\n",
    "    #print(str(L[0][i][0]).upper() {} %s[1:])\n",
    "\n",
    "print(\"-----Here------\")\n",
    "for i in s.split(\" \"):\n",
    "    out=i.capitalize()\n",
    "    #print(out)\n",
    "    #out.join(out)\n",
    "    new.append(out)\n",
    "    \n",
    "#print(out)\n",
    "\n",
    "\" \".join(new)"
   ]
  },
  {
   "cell_type": "code",
   "execution_count": 110,
   "metadata": {},
   "outputs": [
    {
     "data": {
      "text/plain": [
       "'Saii Jkharanya Hey'"
      ]
     },
     "execution_count": 110,
     "metadata": {},
     "output_type": "execute_result"
    }
   ],
   "source": [
    "' '.join(i.capitalize() for i in s.split(' '))"
   ]
  },
  {
   "cell_type": "code",
   "execution_count": 109,
   "metadata": {},
   "outputs": [
    {
     "name": "stdout",
     "output_type": "stream",
     "text": [
      "Saii JKharanya Hey\n"
     ]
    }
   ],
   "source": [
    "string='saii jKharanya hey'\n",
    "\n",
    "list_ = []\n",
    "\n",
    "for i in string[:].split():\n",
    "    a = i[0].upper() + i[1:] \n",
    "    list_.append(a)\n",
    "    \n",
    "print(' '.join(list_))"
   ]
  },
  {
   "cell_type": "code",
   "execution_count": 140,
   "metadata": {},
   "outputs": [
    {
     "name": "stdout",
     "output_type": "stream",
     "text": [
      "i= 0\n",
      "B is NOT a vowel\n",
      "i loop existed\n",
      "i= 1\n",
      "A is a vowel\n",
      "j= 0\n",
      "['ANANA']\n",
      "j= 1\n",
      "['ANANA', 'NANA']\n",
      "j= 2\n",
      "['ANANA', 'NANA', 'ANA']\n",
      "j= 3\n",
      "['ANANA', 'NANA', 'ANA', 'NA']\n",
      "j= 4\n",
      "['ANANA', 'NANA', 'ANA', 'NA', 'A']\n",
      "j loop existed\n",
      "i loop existed\n",
      "i= 2\n",
      "N is NOT a vowel\n",
      "i loop existed\n",
      "i= 3\n",
      "A is a vowel\n",
      "j= 0\n",
      "['ANANA', 'NANA', 'ANA', 'NA', 'A', 'ANANA']\n",
      "j= 1\n",
      "['ANANA', 'NANA', 'ANA', 'NA', 'A', 'ANANA', 'NANA']\n",
      "j= 2\n",
      "['ANANA', 'NANA', 'ANA', 'NA', 'A', 'ANANA', 'NANA', 'ANA']\n",
      "j loop existed\n",
      "i loop existed\n",
      "i= 4\n",
      "N is NOT a vowel\n",
      "i loop existed\n",
      "i= 5\n",
      "A is a vowel\n",
      "j= 0\n",
      "['ANANA', 'NANA', 'ANA', 'NA', 'A', 'ANANA', 'NANA', 'ANA', 'ANANA']\n",
      "j loop existed\n",
      "i loop existed\n"
     ]
    }
   ],
   "source": [
    "s='BANANA'\n",
    "l=[]\n",
    "for i,x in enumerate(s):\n",
    "    print(\"i=\",i)\n",
    "    if (x=='A') or (x=='E') or (x=='I') or (x=='O') or (x=='U'):\n",
    "        print('{}'\" is a vowel\".format(x))\n",
    "        for j,y in enumerate(s[i:]):\n",
    "            #print(\"s[i]=\",s[i])\n",
    "            print(\"j=\",j)\n",
    "            #print(s[j+1:])\n",
    "            l.append(s[j+1:])\n",
    "            print(l)\n",
    "        print(\"j loop existed\")\n",
    "    else:\n",
    "        print('{}'\" is NOT a vowel\".format(x))\n",
    "    print(\"i loop existed\")"
   ]
  },
  {
   "cell_type": "code",
   "execution_count": 162,
   "metadata": {},
   "outputs": [
    {
     "name": "stdout",
     "output_type": "stream",
     "text": [
      "Kevin 19\n"
     ]
    }
   ],
   "source": [
    "s=\"BAANANAS\"\n",
    "vowels, L = 'AEIOU', len(s)\n",
    "K = sum([L-i for i in range(L) if s[i] in vowels])\n",
    "S = sum([L-i for i in range(L) if s[i] not in vowels])\n",
    "if K>S:\n",
    "    print(\"Kevin \" '{}'.format(K))\n",
    "elif (S>K) :\n",
    "    print(\"Stuart \" '{}'.format(S))\n",
    "else:\n",
    "    print(\"Draw\")\n",
    "    \n",
    "#print(['Stuart '+str(S),['Kevin '+str(K),'Draw'][K==S]][K>=S])"
   ]
  },
  {
   "cell_type": "code",
   "execution_count": 227,
   "metadata": {},
   "outputs": [
    {
     "name": "stdout",
     "output_type": "stream",
     "text": [
      "20\n",
      "30\n",
      "{'v', 'x', 's', 'g', 'w', 'l', 'm', 'i', 'r'}\n",
      "9\n",
      "17\n"
     ]
    }
   ],
   "source": [
    "s1='fcrxzwscanmligyxyvym'\n",
    "s2='jxwtrhvujlmrpdoqbisbwhmgpmeoke'\n",
    "l1=list(s1)\n",
    "print(len(l1))\n",
    "l2=list(s2)\n",
    "print(len(l2))\n",
    "out=[]\n",
    "count=0\n",
    "unique1=[]\n",
    "for i in range(len(l1)):\n",
    "    for j in range(len(l2)):\n",
    "        if l1[i] == l2[j]:\n",
    "            count=count+1\n",
    "            out.append(l1[i])\n",
    "            out_set=set(out)\n",
    "print(out_set)\n",
    "#print(\"count=\",count)\n",
    "#print(out)\n",
    "print(len(out_set))\n",
    "print(len(set(l1))+len(set(l2))-(len(out_set))*2)\n",
    "        #else:\n",
    "         #   print(\"None\")\n"
   ]
  },
  {
   "cell_type": "code",
   "execution_count": 211,
   "metadata": {},
   "outputs": [
    {
     "name": "stdout",
     "output_type": "stream",
     "text": [
      "1\n",
      "---------------\n",
      "0\n",
      "---------------\n",
      "---------------\n",
      "count= 1\n",
      "0\n",
      "---------------\n",
      "2\n",
      "---------------\n",
      "---------------\n",
      "count= 3\n",
      "2\n",
      "---------------\n",
      "0\n",
      "---------------\n",
      "---------------\n",
      "count= 5\n",
      "0\n",
      "---------------\n",
      "1\n",
      "---------------\n",
      "---------------\n",
      "count= 6\n",
      "0\n",
      "---------------\n",
      "2\n",
      "---------------\n",
      "---------------\n",
      "count= 8\n",
      "1\n",
      "---------------\n",
      "0\n",
      "---------------\n",
      "---------------\n",
      "count= 9\n",
      "1\n",
      "---------------\n",
      "1\n",
      "---------------\n",
      "---------------\n",
      "count= 9\n",
      "0\n",
      "---------------\n",
      "2\n",
      "---------------\n",
      "---------------\n",
      "count= 11\n",
      "1\n",
      "---------------\n",
      "1\n",
      "---------------\n",
      "---------------\n",
      "count= 11\n",
      "0\n",
      "---------------\n",
      "2\n",
      "---------------\n",
      "---------------\n",
      "count= 13\n",
      "0\n",
      "---------------\n",
      "1\n",
      "---------------\n",
      "---------------\n",
      "count= 14\n",
      "1\n",
      "---------------\n",
      "1\n",
      "---------------\n",
      "---------------\n",
      "count= 14\n",
      "2\n",
      "---------------\n",
      "3\n",
      "---------------\n",
      "---------------\n",
      "count= 15\n",
      "1\n",
      "---------------\n",
      "0\n",
      "---------------\n",
      "---------------\n",
      "count= 16\n",
      "0\n",
      "---------------\n",
      "2\n",
      "---------------\n",
      "---------------\n",
      "count= 18\n",
      "0\n",
      "---------------\n",
      "2\n",
      "---------------\n",
      "---------------\n",
      "count= 20\n",
      "0\n",
      "---------------\n",
      "1\n",
      "---------------\n",
      "---------------\n",
      "count= 21\n",
      "1\n",
      "---------------\n",
      "2\n",
      "---------------\n",
      "---------------\n",
      "count= 22\n",
      "1\n",
      "---------------\n",
      "1\n",
      "---------------\n",
      "---------------\n",
      "count= 22\n",
      "0\n",
      "---------------\n",
      "1\n",
      "---------------\n",
      "---------------\n",
      "count= 23\n",
      "0\n",
      "---------------\n",
      "1\n",
      "---------------\n",
      "---------------\n",
      "count= 24\n",
      "1\n",
      "---------------\n",
      "1\n",
      "---------------\n",
      "---------------\n",
      "count= 24\n",
      "1\n",
      "---------------\n",
      "2\n",
      "---------------\n",
      "---------------\n",
      "count= 25\n",
      "2\n",
      "---------------\n",
      "1\n",
      "---------------\n",
      "---------------\n",
      "count= 26\n",
      "3\n",
      "---------------\n",
      "0\n",
      "---------------\n",
      "---------------\n",
      "count= 29\n",
      "1\n",
      "---------------\n",
      "0\n",
      "---------------\n",
      "---------------\n",
      "count= 30\n"
     ]
    }
   ],
   "source": [
    "from string import ascii_lowercase\n",
    "a='fcrxzwscanmligyxyvym'\n",
    "b='jxwtrhvujlmrpdoqbisbwhmgpmeoke'\n",
    "count = 0\n",
    "for letter in ascii_lowercase:\n",
    "    ia = a.count(letter)\n",
    "    print(ia)\n",
    "    print(\"---------------\")\n",
    "    ib = b.count(letter)\n",
    "    print(ib)\n",
    "    print(\"---------------\")\n",
    "    count += abs(ia - ib)\n",
    "    print(\"---------------\")\n",
    "    print(\"count=\",count)\n",
    "#print(count)"
   ]
  },
  {
   "cell_type": "code",
   "execution_count": 228,
   "metadata": {},
   "outputs": [
    {
     "name": "stdout",
     "output_type": "stream",
     "text": [
      "intersection {'v', 'x', 's', 'g', 'w', 'l', 'm', 'i', 'r'}\n",
      "9\n",
      "10\n",
      "30\n"
     ]
    }
   ],
   "source": [
    "a='fcrxzwscanmligyxyvym'\n",
    "b='jxwtrhvujlmrpdoqbisbwhmgpmeoke'\n",
    "ab_intersection = set(a).intersection(b)\n",
    "print(\"intersection\",ab_intersection)\n",
    "print(len(ab_intersection))\n",
    "anagram = sum(min(a.count(char),b.count(char)) for char in ab_intersection)\n",
    "print(anagram)\n",
    "print(len(a)+len(b)-2*anagram)"
   ]
  },
  {
   "cell_type": "code",
   "execution_count": 241,
   "metadata": {},
   "outputs": [
    {
     "name": "stdout",
     "output_type": "stream",
     "text": [
      "26\n",
      "e 0 2 2\n",
      "q 0 1 3\n",
      "p 0 2 5\n",
      "f 1 0 6\n",
      "k 0 1 7\n",
      "s 1 1 7\n",
      "o 0 2 9\n",
      "d 0 1 10\n",
      "y 3 0 13\n",
      "z 1 0 14\n",
      "j 0 2 16\n",
      "r 1 2 17\n",
      "u 0 1 18\n",
      "c 2 0 20\n",
      "v 1 1 20\n",
      "x 2 1 21\n",
      "g 1 1 21\n",
      "t 0 1 22\n",
      "a 1 0 23\n",
      "h 0 2 25\n",
      "w 1 2 26\n",
      "l 1 1 26\n",
      "m 2 3 27\n",
      "b 0 2 29\n",
      "n 1 0 30\n",
      "i 1 1 30\n",
      "30\n"
     ]
    }
   ],
   "source": [
    "#goal is to get characters not in list a and b: chars= unique set of all characters in a and b, check how many of chars are present in a\n",
    "#\n",
    "delete=0\n",
    "chars=set(list(a)+list(b))\n",
    "#print(len(chars))\n",
    "\n",
    "for c in chars:\n",
    "    #print(c)\n",
    "    #print(list(b).count(c))\n",
    "    delete += abs(list(a).count(c) - list(b).count(c))\n",
    "    print(c,list(a).count(c),list(b).count(c),delete)\n",
    "print(delete)"
   ]
  },
  {
   "cell_type": "code",
   "execution_count": 311,
   "metadata": {},
   "outputs": [
    {
     "name": "stdout",
     "output_type": "stream",
     "text": [
      "only one unique\n",
      "No of charaters to delete is 4\n",
      "only one unique\n",
      "No of charaters to delete is 4\n",
      "unique chars are ['A', 'B']\n",
      "fn\n",
      "fn\n",
      "fn\n",
      "fn\n",
      "fn\n"
     ]
    },
    {
     "ename": "IndexError",
     "evalue": "string index out of range",
     "output_type": "error",
     "traceback": [
      "\u001b[1;31m---------------------------------------------------------------------------\u001b[0m",
      "\u001b[1;31mIndexError\u001b[0m                                Traceback (most recent call last)",
      "\u001b[1;32m<ipython-input-311-dd7bcf74ac5f>\u001b[0m in \u001b[0;36m<module>\u001b[1;34m()\u001b[0m\n\u001b[0;32m     19\u001b[0m         \u001b[1;32mfor\u001b[0m \u001b[0mj\u001b[0m \u001b[1;32min\u001b[0m \u001b[0mrange\u001b[0m\u001b[1;33m(\u001b[0m\u001b[0mlen\u001b[0m\u001b[1;33m(\u001b[0m\u001b[0ml\u001b[0m\u001b[1;33m[\u001b[0m\u001b[0mi\u001b[0m\u001b[1;33m]\u001b[0m\u001b[1;33m)\u001b[0m\u001b[1;33m)\u001b[0m\u001b[1;33m:\u001b[0m\u001b[1;33m\u001b[0m\u001b[0m\n\u001b[0;32m     20\u001b[0m             \u001b[1;32mif\u001b[0m  \u001b[1;33m(\u001b[0m\u001b[0mlen\u001b[0m\u001b[1;33m(\u001b[0m\u001b[0ml\u001b[0m\u001b[1;33m[\u001b[0m\u001b[0mi\u001b[0m\u001b[1;33m]\u001b[0m\u001b[1;33m)\u001b[0m\u001b[1;33m>=\u001b[0m\u001b[0mj\u001b[0m\u001b[1;33m+\u001b[0m\u001b[1;36m3\u001b[0m\u001b[1;33m)\u001b[0m\u001b[1;33m:\u001b[0m\u001b[1;33m\u001b[0m\u001b[0m\n\u001b[1;32m---> 21\u001b[1;33m                 \u001b[1;32mif\u001b[0m \u001b[1;33m(\u001b[0m\u001b[0ml\u001b[0m\u001b[1;33m[\u001b[0m\u001b[0mi\u001b[0m\u001b[1;33m]\u001b[0m\u001b[1;33m[\u001b[0m\u001b[0mj\u001b[0m\u001b[1;33m]\u001b[0m \u001b[1;32min\u001b[0m \u001b[0munique\u001b[0m\u001b[1;33m)\u001b[0m \u001b[1;33m&\u001b[0m \u001b[1;33m(\u001b[0m\u001b[0ml\u001b[0m\u001b[1;33m[\u001b[0m\u001b[0mi\u001b[0m\u001b[1;33m]\u001b[0m\u001b[1;33m[\u001b[0m\u001b[0mj\u001b[0m\u001b[1;33m]\u001b[0m\u001b[1;33m==\u001b[0m\u001b[0ml\u001b[0m\u001b[1;33m[\u001b[0m\u001b[0mi\u001b[0m\u001b[1;33m]\u001b[0m\u001b[1;33m[\u001b[0m\u001b[0mj\u001b[0m\u001b[1;33m+\u001b[0m\u001b[1;36m2\u001b[0m\u001b[1;33m]\u001b[0m\u001b[1;33m)\u001b[0m \u001b[1;33m&\u001b[0m \u001b[1;33m(\u001b[0m\u001b[0ml\u001b[0m\u001b[1;33m[\u001b[0m\u001b[0mi\u001b[0m\u001b[1;33m]\u001b[0m\u001b[1;33m[\u001b[0m\u001b[0mj\u001b[0m\u001b[1;33m+\u001b[0m\u001b[1;36m1\u001b[0m\u001b[1;33m]\u001b[0m\u001b[1;33m==\u001b[0m\u001b[0ml\u001b[0m\u001b[1;33m[\u001b[0m\u001b[0mi\u001b[0m\u001b[1;33m]\u001b[0m\u001b[1;33m[\u001b[0m\u001b[0mj\u001b[0m\u001b[1;33m+\u001b[0m\u001b[1;36m3\u001b[0m\u001b[1;33m]\u001b[0m\u001b[1;33m)\u001b[0m\u001b[1;33m:\u001b[0m\u001b[1;33m\u001b[0m\u001b[0m\n\u001b[0m\u001b[0;32m     22\u001b[0m                     \u001b[0mprint\u001b[0m\u001b[1;33m(\u001b[0m\u001b[1;34m\"fn\"\u001b[0m\u001b[1;33m)\u001b[0m\u001b[1;33m\u001b[0m\u001b[0m\n\u001b[0;32m     23\u001b[0m              \u001b[1;31m#   print(\"l[i][j]=\" '{}'.format(l[i][j]))\u001b[0m\u001b[1;33m\u001b[0m\u001b[1;33m\u001b[0m\u001b[0m\n",
      "\u001b[1;31mIndexError\u001b[0m: string index out of range"
     ]
    }
   ],
   "source": [
    "#AAAA\n",
    "#BBBBB\n",
    "#ABABABAB\n",
    "#BABABA\n",
    "#AAABBB\n",
    "l=['AAAA','BBBBB','ABABABAB','AAABBB']\n",
    "count=0\n",
    "out=[]\n",
    "unique=[]\n",
    "for i in range(len(l)):\n",
    "    if len(set(l[i]))==1:\n",
    "        print(\"only one unique\")\n",
    "        print(\"No of charaters to delete is\",len(l[0]))\n",
    "        out.append(len(l[i]))\n",
    "    elif len(set(l[i]))==2:\n",
    "        unique=set(l[i])\n",
    "        unique1=list(unique)\n",
    "        print(\"unique chars are\",unique1)\n",
    "        for j in range(len(l[i])):\n",
    "            if  (len(l[i])>=j+3):\n",
    "                if (l[i][j] in unique) & (l[i][j]==l[i][j+2]) & (l[i][j+1]==l[i][j+3]):\n",
    "                    print(\"fn\")\n",
    "             #   print(\"l[i][j]=\" '{}'.format(l[i][j]))\n",
    "        \n",
    "            \n",
    "#print(l[0][0])\n",
    "\n",
    "#print(out)\n",
    "    #elseif: set(len[0])\n",
    "        \n",
    "#print(l[0])\n",
    "#for i in range(len(l)):\n",
    "    "
   ]
  },
  {
   "cell_type": "code",
   "execution_count": null,
   "metadata": {
    "collapsed": true
   },
   "outputs": [],
   "source": [
    "for i in range(len(l)):   \n",
    "    if len(set(l[i]))==1:\n",
    "        print(\"only one unique\")\n",
    "        print(\"No of charaters to delete is\",len(l[0]))\n",
    "        out.append(len(l[i]))\n",
    "            "
   ]
  },
  {
   "cell_type": "code",
   "execution_count": null,
   "metadata": {
    "collapsed": true
   },
   "outputs": [],
   "source": [
    "elif len(set(l[i]))==2:\n",
    "                    unique=set(l[i])\n",
    "                    unique1=list(unique)\n",
    "                    print(\"unique chars are\",unique1)\n",
    "                    for j in range(len(l[i])):\n",
    "                        if (l[i][j] in unique):\n",
    "                            print(\"l[i][j]=\" '{}'.format(l[i][j])\n",
    "                        #& (l[i][j]==l[i][j+2]):\n",
    "                        #& (l[i+1]==l[i+3]) & len(l)>=i+3:\n",
    "                            out.append(len(l[i]))"
   ]
  },
  {
   "cell_type": "code",
   "execution_count": 314,
   "metadata": {},
   "outputs": [
    {
     "name": "stdout",
     "output_type": "stream",
     "text": [
      "0\n"
     ]
    }
   ],
   "source": [
    "count = 0;\n",
    "word = 'ABABABA'\n",
    "for i in range(len(word) - 1):\n",
    "    if word[i] == word[i + 1]:\n",
    "        count += 1\n",
    "print(count)   "
   ]
  },
  {
   "cell_type": "code",
   "execution_count": 333,
   "metadata": {},
   "outputs": [
    {
     "name": "stdout",
     "output_type": "stream",
     "text": [
      "Not valid\n",
      "[2, 3, 3, 2, 3, 2, 2]\n"
     ]
    }
   ],
   "source": [
    "s='abbcbac'\n",
    "out=[]\n",
    "max1=[]\n",
    "counter=0;\n",
    "count=0\n",
    "for c in s:\n",
    "    out.append(list(s).count(c))\n",
    "\n",
    "max1=out[0]\n",
    "\n",
    "if len(set(out))==2: #when one extra character appears\n",
    "    for i in range(len(out)):\n",
    "    if out[i]>=max1:\n",
    "         max1=out[i]\n",
    "        if (out[i]==max1):\n",
    "            count=count+1\n",
    "            for index,key in enumerate(len(out)):\n",
    "                if max1==key:\n",
    "                    counter=counter+1\n",
    "                    if counter>1:\n",
    "                        break\n",
    "            out.pop([index])\n",
    "                \n",
    "                    \n",
    "            #out.pop([i])\n",
    "            if count>1:\n",
    "                break\n",
    "            \n",
    "        \n",
    "    out.pop()\n",
    "    print(\"Not valid\")\n",
    "else:\n",
    "    print(\"valid\")\n",
    "print(out)\n",
    "\n",
    "\n",
    "#print(s1)"
   ]
  },
  {
   "cell_type": "code",
   "execution_count": 44,
   "metadata": {},
   "outputs": [
    {
     "name": "stdout",
     "output_type": "stream",
     "text": [
      "max1 here 3\n",
      "out first [2, 3, 3, 2, 3, 2, 2]\n",
      "[2, 3, 2, 3, 2, 2]\n"
     ]
    }
   ],
   "source": [
    "out=[2,3,3,2,3,2,2]\n",
    "max1=[]\n",
    "max1=out[0]\n",
    "count=0\n",
    "counter=0\n",
    "\n",
    "for i in range(len(out)):\n",
    "    if out[i]>=max1:\n",
    "        max1=out[i]\n",
    "print(\"max1 here\",max1)\n",
    "print(\n",
    "#or index,val in enumerate((out)):\n",
    " #  if max1==val:\n",
    "  #     print(\"max1, val\",max1,val)\n",
    "   #    counter=counter+1\n",
    "    #   if counter>1:\n",
    "     #      break\n",
    "\n",
    "out.remove(max1)\n",
    "print(out)\n",
    "            \n",
    "#rint(count)\n",
    "#rint(max1)\n",
    "#rint(index)"
   ]
  },
  {
   "cell_type": "markdown",
   "metadata": {},
   "source": [
    "String Valid/ Invalid"
   ]
  },
  {
   "cell_type": "code",
   "execution_count": 90,
   "metadata": {},
   "outputs": [
    {
     "name": "stdout",
     "output_type": "stream",
     "text": [
      "out first [5, 5, 5, 5, 5, 1, 1]\n",
      "[5, 5, 5, 5, 1, 1]\n",
      "YES\n"
     ]
    }
   ],
   "source": [
    "s='aaaaabc'\n",
    "out=[]\n",
    "max1=[]\n",
    "    \n",
    "for c in s:\n",
    "    out.append(list(s).count(c))\n",
    "max1=out[0]\n",
    "\n",
    "print(\"out first\",out)\n",
    "if len(set(out))==2:#when one extra character appears\n",
    "    for i in range(len(out)):\n",
    "        if out[i]>=max1:\n",
    "            max1=out[i]\n",
    "\n",
    "out.remove(max1)\n",
    "print(out)   \n",
    "\n",
    "if ((len(set(out))==2) & ((len(out))%((len(set(s))))==0)) or (len(set(out))==1) or (len(s)==1) or ((len(s)==5) & (len(s)-len(set(s))==2)):    \n",
    "    result=\"YES\"\n",
    "else:\n",
    "    result=\"NO\"\n",
    "print(result)\n",
    "    #return result"
   ]
  },
  {
   "cell_type": "markdown",
   "metadata": {},
   "source": [
    "collections counter"
   ]
  },
  {
   "cell_type": "code",
   "execution_count": 113,
   "metadata": {},
   "outputs": [
    {
     "name": "stdout",
     "output_type": "stream",
     "text": [
      "Counter({5: 2, 6: 2, 2: 1, 3: 1, 4: 1, 8: 1, 7: 1, 18: 1})\n",
      "Counter({6: 2, 2: 1, 3: 1, 4: 1, 5: 1, 8: 1, 7: 1, 18: 1})\n"
     ]
    }
   ],
   "source": [
    "from collections import Counter\n",
    "my_list=[2,3,4,5,6,8,7,6,5,18]\n",
    "k=Counter(my_list)\n",
    "print(k)\n",
    "len(k)\n",
    "#.subract(Counter([4]))\n",
    "#.subtract(Counter([a]))\n",
    "k[5]=k[5]-1\n",
    "print(k)"
   ]
  },
  {
   "cell_type": "code",
   "execution_count": 123,
   "metadata": {},
   "outputs": [
    {
     "name": "stdout",
     "output_type": "stream",
     "text": [
      "3\n",
      "6 7 8\n",
      "2\n",
      "6 55\n",
      "8 90\n",
      "145\n"
     ]
    }
   ],
   "source": [
    "from collections import Counter\n",
    "n = int(input()) #no of shoes\n",
    "s = Counter(map(int,input().split()))  #input shoe sizes and counter will give frequency\n",
    "#s1=Counter(int(input()).split())\n",
    "#print(s)\n",
    "#print(s1)\n",
    "x = int(input()) #no of customers\n",
    "total = []\n",
    "for i in range(x):\n",
    "    a,b = map(int,input().split()) #shoe sizes and prices they want to buy\n",
    "    if s[a] > 0:\n",
    "        #print(s[a])\n",
    "        total.append(b)\n",
    "        s.subtract(Counter([a]))\n",
    "        #print(\"a=\",a)\n",
    "        #print(\"s[a]\",s[a])\n",
    "        #print(\"s\",s)\n",
    "    else:\n",
    "        pass\n",
    "\n",
    "print (sum(total))"
   ]
  },
  {
   "cell_type": "markdown",
   "metadata": {},
   "source": [
    "Collections default dict"
   ]
  },
  {
   "cell_type": "code",
   "execution_count": 121,
   "metadata": {},
   "outputs": [
    {
     "name": "stdout",
     "output_type": "stream",
     "text": [
      "('python', ['awesome', 'language'])\n",
      "('something-else', ['not relevant'])\n",
      "language\n"
     ]
    }
   ],
   "source": [
    "from collections import defaultdict\n",
    "d = defaultdict(list)\n",
    "d['python'].append(\"awesome\")\n",
    "d['something-else'].append(\"not relevant\")\n",
    "d['python'].append(\"language\")\n",
    "for i in d.items():\n",
    "    print(i)\n",
    "print(d['python'][1])"
   ]
  },
  {
   "cell_type": "code",
   "execution_count": null,
   "metadata": {
    "collapsed": true
   },
   "outputs": [],
   "source": [
    "from collections import defaultdict\n",
    "n,m= map(int,input().split()) #n, m  of group A,B\n",
    "for i in range(n):\n",
    "    n_nos=map(int,input().split())\n",
    "for j in range(m):\n",
    "    m_nos=map(int,input().split())\n",
    "d['A'].append(n_nos)\n",
    "d['B'].append(m_nos)    "
   ]
  },
  {
   "cell_type": "code",
   "execution_count": 5,
   "metadata": {},
   "outputs": [
    {
     "name": "stdout",
     "output_type": "stream",
     "text": [
      "2 2\n",
      "a \n",
      "b\n",
      "defaultdict(<class 'list'>, {'a ': [1], 'b': [2]})\n",
      "b\n",
      "2\n",
      "c\n",
      "-1\n"
     ]
    }
   ],
   "source": [
    "from collections import defaultdict\n",
    "d = defaultdict(list)\n",
    "n, m = list(map(int,input().split()))\n",
    "\n",
    "for i in range(n):\n",
    "    d[input()].append(i + 1)\n",
    "print(d)\n",
    "for i in range(m):\n",
    "    print(' '.join(map(str, d[input()])) or -1)"
   ]
  },
  {
   "cell_type": "markdown",
   "metadata": {},
   "source": [
    "Collections namedtuple"
   ]
  },
  {
   "cell_type": "code",
   "execution_count": 8,
   "metadata": {},
   "outputs": [
    {
     "name": "stdout",
     "output_type": "stream",
     "text": [
      "2\n",
      "ID NAMES MARKS\n",
      "1 A 23\n",
      "2 B 99\n",
      "61.00\n"
     ]
    }
   ],
   "source": [
    "from collections import namedtuple\n",
    "n = int(input()) #no of students\n",
    "a = input() #column names\n",
    "#print(a)\n",
    "total = 0\n",
    "Student = namedtuple('Student', a) #initialize namedtuple\n",
    "#print(Student.NAME)\n",
    "for _ in range(n):\n",
    "    student = Student(*input().split()) #read values\n",
    "    #print(student)\n",
    "    total += int(student.MARKS) #access marks\n",
    "print('{:.2f}'.format(total/n))"
   ]
  },
  {
   "cell_type": "code",
   "execution_count": null,
   "metadata": {
    "collapsed": true
   },
   "outputs": [],
   "source": [
    "from collections import namedtuple\n",
    "\n",
    "N = int(input())\n",
    "fields = input().split()\n",
    "\n",
    "total = 0\n",
    "for i in range(N):\n",
    "    students = namedtuple('student',fields)\n",
    "    field1, field2, field3,field4 = input().split()\n",
    "    student = students(field1,field2,field3,field4)\n",
    "    total += int(student.MARKS)\n",
    "print('{:.2f}'.format(total/N))"
   ]
  },
  {
   "cell_type": "code",
   "execution_count": 6,
   "metadata": {},
   "outputs": [
    {
     "name": "stdout",
     "output_type": "stream",
     "text": [
      "3\n",
      "abc\n",
      "abc\n",
      "a\n",
      "Input Words ['abc', 'abc', 'a']\n",
      "After counter Counter({'abc': 2, 'a': 1})\n",
      "2\n",
      "2 1 "
     ]
    }
   ],
   "source": [
    "from collections import Counter\n",
    "\n",
    "n = int(input())\n",
    "words = [input().strip() for _ in range(n)]\n",
    "print(\"Input Words\",words)\n",
    "counts = Counter(words)\n",
    "print(\"After counter\",counts)\n",
    "print(len(counts))\n",
    "derp=[]\n",
    "\n",
    "#for word in words:\n",
    "for x,y in counts.items():\n",
    "    print (y,end=\" \")"
   ]
  },
  {
   "cell_type": "markdown",
   "metadata": {},
   "source": [
    "Ordered Dict-Collections"
   ]
  },
  {
   "cell_type": "code",
   "execution_count": 48,
   "metadata": {},
   "outputs": [
    {
     "name": "stdout",
     "output_type": "stream",
     "text": [
      "OrderedDict([('apple', 4), ('banana', 3), ('orange', 2), ('pear', 1)])\n",
      "OrderedDict([('pear', 1), ('orange', 2), ('banana', 3), ('apple', 4)])\n",
      "OrderedDict([('pear', 1), ('apple', 4), ('banana', 3), ('orange', 2)])\n",
      "banana 3\n",
      "apple 4\n",
      "pear 1\n",
      "orange 2\n",
      "orange 2\n",
      "-----------------------\n",
      "pear 1\n",
      "-----------------------\n",
      "apple 4\n",
      "-----------------------\n",
      "banana 3\n",
      "-----------------------\n"
     ]
    }
   ],
   "source": [
    "from collections import OrderedDict\n",
    "d = {'banana': 3, 'apple': 4, 'pear': 1, 'orange': 2}\n",
    "\n",
    "# dictionary sorted by key\n",
    "y1=OrderedDict(sorted(d.items(), key=lambda t: t[0]))\n",
    "print(y1)\n",
    "# dictionary sorted by value\n",
    "y2=OrderedDict(sorted(d.items(), key=lambda t: t[1]))\n",
    "print(y2)\n",
    "\n",
    "# dictionary sorted by length of the key string\n",
    "y3=OrderedDict(sorted(d.items(), key=lambda t: len(t[0])))\n",
    "print(y3)\n",
    "\n",
    "#d.popitem()\n",
    "for key,val in d.items():\n",
    "    print(key,val)\n",
    "while d:\n",
    "    x,y=d.popitem()\n",
    "    print(x,y)\n",
    "    print(\"-----------------------\")"
   ]
  },
  {
   "cell_type": "code",
   "execution_count": null,
   "metadata": {
    "collapsed": true
   },
   "outputs": [],
   "source": []
  },
  {
   "cell_type": "code",
   "execution_count": null,
   "metadata": {
    "collapsed": true
   },
   "outputs": [],
   "source": [
    "from collections import OrderedDict\n",
    "n=int(input())\n",
    "for _ in range(n):\n",
    "    od=input().strip()\n",
    "    count=Counter(od)\n",
    "    new_od=OrderedDict(count)\n",
    "    print(new_od)\n",
    "    \n",
    "#words = [input().strip() for _ in range(n)]\n",
    "#print(words)"
   ]
  },
  {
   "cell_type": "code",
   "execution_count": 9,
   "metadata": {},
   "outputs": [
    {
     "name": "stdout",
     "output_type": "stream",
     "text": [
      "3\n",
      "abc\n",
      "1\n",
      "abc\n",
      "2\n",
      "a\n",
      "1\n",
      "2\n",
      "2 1\n",
      "2 1 "
     ]
    }
   ],
   "source": [
    "from collections import OrderedDict\n",
    "d = OrderedDict()\n",
    "for i in range(int(input())):\n",
    "    s = input()\n",
    "    d[s] = d.get(s,0)+1 #what ever words we input ex: abc, abc ,a - d[that word]'s value will be incremented by 1 each time \n",
    "                         #if same s is repeated\n",
    "    #print(s)\n",
    "    print(d[s])\n",
    "print(len(d))\n",
    "print(*d.values()) # first way to output 2,1\n",
    "for x,y in d.items(): #second way to output 2,1\n",
    "    print(y,end=' ')"
   ]
  },
  {
   "cell_type": "markdown",
   "metadata": {},
   "source": [
    "Deque Collections"
   ]
  },
  {
   "cell_type": "code",
   "execution_count": 15,
   "metadata": {},
   "outputs": [
    {
     "name": "stdout",
     "output_type": "stream",
     "text": [
      "2\n",
      "append 1\n",
      "pop\n",
      "[]\n"
     ]
    }
   ],
   "source": [
    "from collections import deque\n",
    "n=int(input())\n",
    "d=deque()\n",
    "for _ in range(n):\n",
    "    eval(\"d.{0}({1})\".format(*input().split(),''))\n",
    "\n",
    "print([x for x in d])\n",
    "    \n",
    "#for _ in range(int(input())):\n",
    " #   eval(\"d.{0}({1})\".format(*input().split(),''))\n",
    "#print(*[x for x in d])"
   ]
  },
  {
   "cell_type": "code",
   "execution_count": null,
   "metadata": {
    "collapsed": true
   },
   "outputs": [],
   "source": [
    "n_rounds=int(input())\n",
    "for i in range(n_rounds):\n",
    "    n =int(input())\n",
    "    l = [int(x) for x in input().split()]\n",
    "\n",
    "print(n)\n",
    "print(l)\n",
    "\n",
    "  \n",
    "    "
   ]
  }
 ],
 "metadata": {
  "kernelspec": {
   "display_name": "Python 3",
   "language": "python",
   "name": "python3"
  },
  "language_info": {
   "codemirror_mode": {
    "name": "ipython",
    "version": 3
   },
   "file_extension": ".py",
   "mimetype": "text/x-python",
   "name": "python",
   "nbconvert_exporter": "python",
   "pygments_lexer": "ipython3",
   "version": "3.6.3"
  }
 },
 "nbformat": 4,
 "nbformat_minor": 2
}
