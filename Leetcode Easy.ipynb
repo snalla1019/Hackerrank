{
 "cells": [
  {
   "cell_type": "code",
   "execution_count": 1,
   "metadata": {},
   "outputs": [
    {
     "ename": "SyntaxError",
     "evalue": "Missing parentheses in call to 'print'. Did you mean print(int 'Hello there', sys.argv[1])? (<ipython-input-1-9630c631cafa>, line 6)",
     "output_type": "error",
     "traceback": [
      "\u001b[1;36m  File \u001b[1;32m\"<ipython-input-1-9630c631cafa>\"\u001b[1;36m, line \u001b[1;32m6\u001b[0m\n\u001b[1;33m    print 'Hello there', sys.argv[1]\u001b[0m\n\u001b[1;37m                      ^\u001b[0m\n\u001b[1;31mSyntaxError\u001b[0m\u001b[1;31m:\u001b[0m Missing parentheses in call to 'print'. Did you mean print(int 'Hello there', sys.argv[1])?\n"
     ]
    }
   ],
   "source": [
    "# import modules used here -- sys is a very standard one\n",
    "import sys\n",
    "\n",
    "# Gather our code in a main() function\n",
    "def main():\n",
    "    print 'Hello there', sys.argv[1]\n",
    "    # Command line args are in sys.argv[1], sys.argv[2] ...\n",
    "    # sys.argv[0] is the script name itself and can be ignored\n",
    "\n",
    "# Standard boilerplate to call the main() function to begin\n",
    "# the program.\n",
    "if __name__ == '__main__':\n",
    "    main()"
   ]
  },
  {
   "cell_type": "code",
   "execution_count": 12,
   "metadata": {},
   "outputs": [
    {
     "name": "stdout",
     "output_type": "stream",
     "text": [
      "3\n"
     ]
    }
   ],
   "source": [
    "a=3\n",
    "print (a)"
   ]
  },
  {
   "cell_type": "code",
   "execution_count": 5,
   "metadata": {
    "collapsed": true
   },
   "outputs": [],
   "source": [
    "import numpy as np\n",
    "import sys\n"
   ]
  },
  {
   "cell_type": "code",
   "execution_count": 27,
   "metadata": {
    "collapsed": true
   },
   "outputs": [],
   "source": [
    "# Defines a \"repeat\" function that takes 2 arguments.\n",
    "def repeat(s, exclaim):\n",
    "    \"\"\"\n",
    "    Returns the string 's' repeated 3 times.\n",
    "    If exclaim is true, add exclamation marks.\n",
    "    \"\"\"\n",
    "\n",
    "    result = s + s + s # can also use \"s * 3\" which is faster (Why?)\n",
    "    if exclaim:\n",
    "        result = result + '!!!'\n",
    "    #print (result)\n",
    "    \n",
    "    return result"
   ]
  },
  {
   "cell_type": "code",
   "execution_count": 28,
   "metadata": {},
   "outputs": [
    {
     "data": {
      "text/plain": [
       "'YayYayYay'"
      ]
     },
     "execution_count": 28,
     "metadata": {},
     "output_type": "execute_result"
    }
   ],
   "source": [
    "repeat('Yay', False) \n"
   ]
  },
  {
   "cell_type": "code",
   "execution_count": 31,
   "metadata": {},
   "outputs": [
    {
     "name": "stdout",
     "output_type": "stream",
     "text": [
      "Calling with single value\n",
      "The Output is: \n",
      "55\n",
      "Calling with multiple values\n",
      "The Output is: \n",
      "50\n",
      "60\n",
      "70\n",
      "80\n"
     ]
    }
   ],
   "source": []
  },
  {
   "cell_type": "code",
   "execution_count": null,
   "metadata": {
    "collapsed": true
   },
   "outputs": [],
   "source": [
    "class Foo:\n",
    "    \n",
    "    def run():\n",
    "        m = 0\n",
    "        while m != 1:    \n",
    "            p = input('Please choose p: ')\n",
    "            p = makeInt(p)\n",
    "            #Some other code\n",
    "            print(p)\n",
    "            m = makeInt(input('Enter 1 if you would like to quit: '))\n",
    "\n",
    "    def makeInt(self,i):\n",
    "        try:\n",
    "            i = int(i)\n",
    "        except ValueError:\n",
    "            i = input('Incorrect input! Enter your answer: ')\n",
    "            i = makeInt(i)\n",
    "            return i\n",
    "\n",
    "#Some other functions    \n",
    "\n",
    "if __name__ == '__main__':\n",
    "    Foo.run()\n",
    "    "
   ]
  },
  {
   "cell_type": "code",
   "execution_count": null,
   "metadata": {
    "collapsed": true
   },
   "outputs": [],
   "source": [
    "if __name__ == '__main__':\n",
    "    Foo.run()"
   ]
  },
  {
   "cell_type": "code",
   "execution_count": null,
   "metadata": {
    "collapsed": true
   },
   "outputs": [],
   "source": [
    "class Foo:\n",
    "    \n",
    "    @staticmethod\n",
    "    def run(self):\n",
    "        m = 0\n",
    "        while m != 1:    \n",
    "            p = input('Please choose p: ')\n",
    "            p = makeInt(p)\n",
    "            #Some other code\n",
    "            print(p)\n",
    "            m = makeInt(input('Enter 1 if you would like to quit: '))\n",
    "\n",
    "    @staticmethod\n",
    "    def makeInt(self,i):\n",
    "        try:\n",
    "            i = int(i)\n",
    "        except ValueError:\n",
    "            i = input('Incorrect input! Enter your answer: ')\n",
    "            i = makeInt(i)\n",
    "            return i\n",
    "\n",
    "#Some other functions    \n",
    "\n",
    "#if __name__ == '__main__':\n",
    " #   run()"
   ]
  },
  {
   "cell_type": "code",
   "execution_count": null,
   "metadata": {
    "collapsed": true
   },
   "outputs": [],
   "source": [
    "if __name__ == '__main__':\n",
    "    Foo.run()"
   ]
  },
  {
   "cell_type": "code",
   "execution_count": 66,
   "metadata": {
    "collapsed": true
   },
   "outputs": [],
   "source": [
    "#Two Sum\n",
    "def twoSum(nums, target):\n",
    "    \"\"\"\n",
    "    :type nums: List[int]\n",
    "    :type target: int\n",
    "    :rtype: List[int]\n",
    "    \"\"\"\n",
    "    for x in range(len(nums)):\n",
    "        complement = target - nums[x]\n",
    "        print(complement)\n",
    "        complement_lookup = [index for index, num in enumerate(nums) if (num == complement and index != x)]\n",
    "        print(complement_lookup)\n",
    "        if complement_lookup == []:\n",
    "            pass\n",
    "        else:\n",
    "            return [x,complement_lookup[0]]"
   ]
  },
  {
   "cell_type": "code",
   "execution_count": 73,
   "metadata": {
    "collapsed": true
   },
   "outputs": [],
   "source": [
    "def twoSum1(nums, target):\n",
    "    \"\"\"\n",
    "    :type nums: List[int]\n",
    "    :type target: int\n",
    "    :rtype: List[int]\n",
    "    \"\"\"\n",
    "    count=0\n",
    "    for x in range(len(nums)):\n",
    "        find=target-nums[x]\n",
    "        print(\"Find Value:\",find)\n",
    "        for index,val in enumerate(nums):\n",
    "            if (find==val) & (index!=x):\n",
    "                return [x,index]\n",
    "                #print(\"index here:[\",num_index,\",\",index,\"]\")\n",
    "                count=1\n",
    "        if count==1:\n",
    "            break"
   ]
  },
  {
   "cell_type": "code",
   "execution_count": 79,
   "metadata": {
    "collapsed": true
   },
   "outputs": [],
   "source": [
    "def twoSum(nums, target):\n",
    "    \"\"\"\n",
    "    :type nums: List[int]\n",
    "    :type target: int\n",
    "    :rtype: List[int]\n",
    "    \"\"\"\n",
    "    if len(nums) <= 1:\n",
    "        return False\n",
    "    buf_dict = {}\n",
    "    for i in range(len(nums)):\n",
    "        if nums[i] in buf_dict:\n",
    "            print(buf_dict)\n",
    "            return [buf_dict[nums[i]], i]\n",
    "        \n",
    "        else:\n",
    "            buf_dict[target - nums[i]] = i\n",
    "            print(\"else:\",buf_dict)"
   ]
  },
  {
   "cell_type": "code",
   "execution_count": 80,
   "metadata": {},
   "outputs": [
    {
     "name": "stdout",
     "output_type": "stream",
     "text": [
      "else: {5: 0}\n",
      "else: {5: 0, 2: 1}\n",
      "else: {5: 0, 2: 1, 6: 2}\n",
      "{5: 0, 2: 1, 6: 2}\n"
     ]
    },
    {
     "data": {
      "text/plain": [
       "[1, 3]"
      ]
     },
     "execution_count": 80,
     "metadata": {},
     "output_type": "execute_result"
    }
   ],
   "source": [
    "twoSum([4,7,3,2,8],9)"
   ]
  },
  {
   "cell_type": "code",
   "execution_count": 88,
   "metadata": {
    "collapsed": true
   },
   "outputs": [],
   "source": [
    "class ListNode(object):\n",
    "    def __init__(self, x):\n",
    "        self.val = x\n",
    "        self.next = None\n",
    "\n",
    "class Solution(object):\n",
    "    def addTwoNumbers(self, l1, l2):\n",
    "        \"\"\"\n",
    "        :type l1: ListNode\n",
    "        :type l2: ListNode\n",
    "        :rtype: ListNode\n",
    "        \"\"\"\n",
    "        dummmy_var = ListNode(0)\n",
    "        current = dummmy_var\n",
    "        s, carry = 0, 0,\n",
    "        while l1 or l2 or carry:\n",
    "            if l1 and l2:\n",
    "                s = l1.val + l2.val\n",
    "                l1 = l1.next\n",
    "                l2 = l2.next\n",
    "            elif l1 and not l2:\n",
    "                s = l1.val\n",
    "                l1 = l1.next\n",
    "            elif l2 and not l1:\n",
    "                s = l2.val\n",
    "                l2 = l2.next\n",
    "            current.next = ListNode((s + carry) % 10)\n",
    "            current = current.next\n",
    "            carry = 1 if s+carry >= 10 else 0\n",
    "            s = 0\n",
    "        return dummmy_var.next\n",
    "           "
   ]
  },
  {
   "cell_type": "code",
   "execution_count": 91,
   "metadata": {},
   "outputs": [
    {
     "ename": "AttributeError",
     "evalue": "'list' object has no attribute 'val'",
     "output_type": "error",
     "traceback": [
      "\u001b[1;31m---------------------------------------------------------------------------\u001b[0m",
      "\u001b[1;31mAttributeError\u001b[0m                            Traceback (most recent call last)",
      "\u001b[1;32m<ipython-input-91-5616fc25d2fc>\u001b[0m in \u001b[0;36m<module>\u001b[1;34m()\u001b[0m\n\u001b[0;32m      1\u001b[0m \u001b[1;32mif\u001b[0m \u001b[0m__name__\u001b[0m \u001b[1;33m==\u001b[0m \u001b[1;34m'__main__'\u001b[0m\u001b[1;33m:\u001b[0m\u001b[1;33m\u001b[0m\u001b[0m\n\u001b[1;32m----> 2\u001b[1;33m     \u001b[0mSolution\u001b[0m\u001b[1;33m.\u001b[0m\u001b[0maddTwoNumbers\u001b[0m\u001b[1;33m(\u001b[0m\u001b[1;33m[\u001b[0m\u001b[1;36m1\u001b[0m\u001b[1;33m]\u001b[0m\u001b[1;33m,\u001b[0m\u001b[1;33m[\u001b[0m\u001b[1;36m2\u001b[0m\u001b[1;33m,\u001b[0m\u001b[1;36m4\u001b[0m\u001b[1;33m,\u001b[0m\u001b[1;36m3\u001b[0m\u001b[1;33m]\u001b[0m\u001b[1;33m,\u001b[0m\u001b[1;33m[\u001b[0m\u001b[1;36m4\u001b[0m\u001b[1;33m,\u001b[0m\u001b[1;36m5\u001b[0m\u001b[1;33m,\u001b[0m\u001b[1;36m6\u001b[0m\u001b[1;33m]\u001b[0m\u001b[1;33m)\u001b[0m\u001b[1;33m\u001b[0m\u001b[0m\n\u001b[0m",
      "\u001b[1;32m<ipython-input-88-f6386417806a>\u001b[0m in \u001b[0;36maddTwoNumbers\u001b[1;34m(self, l1, l2)\u001b[0m\n\u001b[0;32m     16\u001b[0m         \u001b[1;32mwhile\u001b[0m \u001b[0ml1\u001b[0m \u001b[1;32mor\u001b[0m \u001b[0ml2\u001b[0m \u001b[1;32mor\u001b[0m \u001b[0mcarry\u001b[0m\u001b[1;33m:\u001b[0m\u001b[1;33m\u001b[0m\u001b[0m\n\u001b[0;32m     17\u001b[0m             \u001b[1;32mif\u001b[0m \u001b[0ml1\u001b[0m \u001b[1;32mand\u001b[0m \u001b[0ml2\u001b[0m\u001b[1;33m:\u001b[0m\u001b[1;33m\u001b[0m\u001b[0m\n\u001b[1;32m---> 18\u001b[1;33m                 \u001b[0ms\u001b[0m \u001b[1;33m=\u001b[0m \u001b[0ml1\u001b[0m\u001b[1;33m.\u001b[0m\u001b[0mval\u001b[0m \u001b[1;33m+\u001b[0m \u001b[0ml2\u001b[0m\u001b[1;33m.\u001b[0m\u001b[0mval\u001b[0m\u001b[1;33m\u001b[0m\u001b[0m\n\u001b[0m\u001b[0;32m     19\u001b[0m                 \u001b[0ml1\u001b[0m \u001b[1;33m=\u001b[0m \u001b[0ml1\u001b[0m\u001b[1;33m.\u001b[0m\u001b[0mnext\u001b[0m\u001b[1;33m\u001b[0m\u001b[0m\n\u001b[0;32m     20\u001b[0m                 \u001b[0ml2\u001b[0m \u001b[1;33m=\u001b[0m \u001b[0ml2\u001b[0m\u001b[1;33m.\u001b[0m\u001b[0mnext\u001b[0m\u001b[1;33m\u001b[0m\u001b[0m\n",
      "\u001b[1;31mAttributeError\u001b[0m: 'list' object has no attribute 'val'"
     ]
    }
   ],
   "source": [
    "if __name__ == '__main__':\n",
    "    Solution.addTwoNumbers([1],[2,4,3],[4,5,6])"
   ]
  },
  {
   "cell_type": "code",
   "execution_count": 106,
   "metadata": {
    "collapsed": true
   },
   "outputs": [],
   "source": [
    "#reverse integer\n",
    "def reverse(num):\n",
    "    if num>0:\n",
    "        sign=1\n",
    "    else:\n",
    "        sign=-1\n",
    "    y=str(abs(num))\n",
    "    #print(y)\n",
    "    out=sign*int(y[::-1])\n",
    "    print(out)"
   ]
  },
  {
   "cell_type": "code",
   "execution_count": 107,
   "metadata": {},
   "outputs": [
    {
     "name": "stdout",
     "output_type": "stream",
     "text": [
      "-321\n"
     ]
    }
   ],
   "source": [
    "reverse(-123)"
   ]
  },
  {
   "cell_type": "code",
   "execution_count": 115,
   "metadata": {
    "collapsed": true
   },
   "outputs": [],
   "source": [
    "#palindrome number\n",
    "def isPalindrome(x):\n",
    "    if (x < 0) or (x % 10 == 0 and x != 0):\n",
    "        return False \n",
    "\n",
    "    revert_num=0\n",
    "    while(x>revert_num):\n",
    "        revert_num=revert_num * 10 + x % 10\n",
    "        print(\"revert_num\",revert_num)\n",
    "        x=int(x/10)\n",
    "        print(\"x:\",x)\n",
    "\n",
    "    return (x==revert_num) or (x==int(revert_num/10))\n"
   ]
  },
  {
   "cell_type": "code",
   "execution_count": 119,
   "metadata": {},
   "outputs": [
    {
     "name": "stdout",
     "output_type": "stream",
     "text": [
      "revert_num 1\n",
      "x: 12432\n",
      "revert_num 12\n",
      "x: 1243\n",
      "revert_num 123\n",
      "x: 124\n",
      "revert_num 1234\n",
      "x: 12\n"
     ]
    },
    {
     "data": {
      "text/plain": [
       "False"
      ]
     },
     "execution_count": 119,
     "metadata": {},
     "output_type": "execute_result"
    }
   ],
   "source": [
    "isPalindrome(124321)"
   ]
  },
  {
   "cell_type": "code",
   "execution_count": 181,
   "metadata": {
    "collapsed": true
   },
   "outputs": [],
   "source": [
    "def lengthOfLongestSubstring(s):\n",
    "    start = maxLength = 0\n",
    "    letterUsed = {}\n",
    "    for i in range(len(s)):\n",
    "        print(\"i is,\",i)\n",
    "        if s[i] in letterUsed and start <= letterUsed[s[i]]:\n",
    "            print(\"letterUsed[s[i]]\",letterUsed[s[i]])\n",
    "            start = letterUsed[s[i]] + 1\n",
    "            print(\"start\",start)\n",
    "            print(\"letterUsed in if\",letterUsed)\n",
    "        else:\n",
    "            print(\"in else\")\n",
    "            maxLength = max(maxLength, i - start + 1) #main part\n",
    "            print(\"max_length\",maxLength)\n",
    "        print(s[i])\n",
    "        letterUsed[s[i]] = i\n",
    "        print(\"lettersUsed:\",letterUsed)\n",
    "    return maxLength\n",
    "    \n",
    "    \n"
   ]
  },
  {
   "cell_type": "code",
   "execution_count": 182,
   "metadata": {},
   "outputs": [
    {
     "name": "stdout",
     "output_type": "stream",
     "text": [
      "i is, 0\n",
      "in else\n",
      "max_length 1\n",
      "a\n",
      "lettersUsed: {'a': 0}\n",
      "i is, 1\n",
      "in else\n",
      "max_length 2\n",
      "b\n",
      "lettersUsed: {'a': 0, 'b': 1}\n",
      "i is, 2\n",
      "in else\n",
      "max_length 3\n",
      "c\n",
      "lettersUsed: {'a': 0, 'b': 1, 'c': 2}\n",
      "i is, 3\n",
      "letterUsed[s[i]] 0\n",
      "start 1\n",
      "letterUsed in if {'a': 0, 'b': 1, 'c': 2}\n",
      "a\n",
      "lettersUsed: {'a': 3, 'b': 1, 'c': 2}\n",
      "i is, 4\n",
      "letterUsed[s[i]] 1\n",
      "start 2\n",
      "letterUsed in if {'a': 3, 'b': 1, 'c': 2}\n",
      "b\n",
      "lettersUsed: {'a': 3, 'b': 4, 'c': 2}\n",
      "i is, 5\n",
      "letterUsed[s[i]] 2\n",
      "start 3\n",
      "letterUsed in if {'a': 3, 'b': 4, 'c': 2}\n",
      "c\n",
      "lettersUsed: {'a': 3, 'b': 4, 'c': 5}\n",
      "i is, 6\n",
      "in else\n",
      "max_length 4\n",
      "d\n",
      "lettersUsed: {'a': 3, 'b': 4, 'c': 5, 'd': 6}\n",
      "i is, 7\n",
      "letterUsed[s[i]] 3\n",
      "start 4\n",
      "letterUsed in if {'a': 3, 'b': 4, 'c': 5, 'd': 6}\n",
      "a\n",
      "lettersUsed: {'a': 7, 'b': 4, 'c': 5, 'd': 6}\n"
     ]
    },
    {
     "data": {
      "text/plain": [
       "4"
      ]
     },
     "execution_count": 182,
     "metadata": {},
     "output_type": "execute_result"
    }
   ],
   "source": [
    "lengthOfLongestSubstring('abcabcda')"
   ]
  },
  {
   "cell_type": "code",
   "execution_count": 85,
   "metadata": {},
   "outputs": [],
   "source": [
    "def longestCommonPrefix(strs):\n",
    "    \"\"\"\n",
    "    :type strs: List[str]\n",
    "    :rtype: str\n",
    "    \"\"\"\n",
    "    buff=strs[0]\n",
    "    buff_len=len(strs[0])\n",
    "    \n",
    "    for s in strs[1:]:\n",
    "        if len(s)< buff_len:\n",
    "            buff_len=len(s)\n",
    "            buff=s\n",
    "    prefix=\"\"\n",
    "\n",
    "    for i in range(buff_len):\n",
    "        c=buff[i]\n",
    "        result=True\n",
    "        for s in strs:\n",
    "            if c!=s[i]:\n",
    "                result=False\n",
    "                break\n",
    "        if result:\n",
    "            prefix+=c\n",
    "        else:\n",
    "            break\n",
    "            \n",
    "    return prefix\n",
    "            "
   ]
  },
  {
   "cell_type": "code",
   "execution_count": 81,
   "metadata": {
    "collapsed": true
   },
   "outputs": [],
   "source": [
    "def longestCommonPrefix(strs):\n",
    "    \"\"\"\n",
    "    :type strs: List[str]\n",
    "    :rtype: str\n",
    "    \"\"\"\n",
    "    if len(strs) == 0:\n",
    "        return \"\"\n",
    "    elif len(strs) == 1:\n",
    "        return strs[0]\n",
    "    else:\n",
    "        shortest_len_s = len(strs[0])\n",
    "        shortest_str = strs[0]\n",
    "        print(\"shortest_str\",shortest_str)\n",
    "        print(\"shortest_len_s\",shortest_len_s)\n",
    "\n",
    "        for s in strs[1:]:\n",
    "            print(s)\n",
    "            if len(s)<shortest_len_s:\n",
    "                shortest_len_s = len(s)\n",
    "                shortest_str = s\n",
    "                print(\"shortest_str\",shortest_str)\n",
    "                print(\"shortest_len_s\",shortest_len_s)\n",
    "\n",
    "                \n",
    "        prefix = \"\"\n",
    "        for i in range(shortest_len_s):\n",
    "            c = shortest_str[i]\n",
    "            print(c)\n",
    "            result = True\n",
    "            for s in strs:\n",
    "                print(s)\n",
    "                if c != s[i]:\n",
    "                    result = False\n",
    "                    break\n",
    "            if result:\n",
    "                prefix+=c\n",
    "                print(\"prefix\",prefix)\n",
    "            else:\n",
    "                break\n",
    "        return prefix\n"
   ]
  },
  {
   "cell_type": "code",
   "execution_count": null,
   "metadata": {
    "collapsed": true
   },
   "outputs": [],
   "source": [
    "class Solution:\n",
    "    def longestCommonPrefix(self, strs):\n",
    "        \"\"\"\n",
    "        :type strs: List[str]\n",
    "        :rtype: str\n",
    "\n",
    "        \"\"\"\n",
    "        \n",
    "        if len(strs)==0:\n",
    "        return \" \"\n",
    "        \n",
    "        elseif len(strs)==1:\n",
    "            return strs[0]\n",
    "        else:\n",
    "            buff=strs[0]\n",
    "            buff_len=len(strs[0])\n",
    "\n",
    "        for s in strs[1:]:\n",
    "            if len(s)< buff_len:\n",
    "                buff_len=len(s)\n",
    "                buff=s\n",
    "        prefix=\"\"\n",
    "\n",
    "        for i in range(buff_len):\n",
    "            c=buff[i]\n",
    "            result=True\n",
    "            for s in strs:\n",
    "                if c!=s[i]:\n",
    "                    result=False\n",
    "                    break\n",
    "            if result:\n",
    "                prefix+=c\n",
    "            else:\n",
    "                break\n",
    "\n",
    "        return prefix\n",
    "            "
   ]
  },
  {
   "cell_type": "code",
   "execution_count": 86,
   "metadata": {},
   "outputs": [
    {
     "name": "stdout",
     "output_type": "stream",
     "text": [
      "fly\n"
     ]
    },
    {
     "data": {
      "text/plain": [
       "'fl'"
      ]
     },
     "execution_count": 86,
     "metadata": {},
     "output_type": "execute_result"
    }
   ],
   "source": [
    "longestCommonPrefix([\"flyy\",\"fly\",\"flee\"])"
   ]
  },
  {
   "cell_type": "code",
   "execution_count": 97,
   "metadata": {
    "collapsed": true
   },
   "outputs": [],
   "source": [
    "def isValid(s):\n",
    "    \"\"\"\n",
    "    :type s: str\n",
    "    :rtype: bool\n",
    "    \"\"\"\n",
    "    # use stack to keep track\n",
    "    stack = []\n",
    "    push_set = set(['(', '{', '['])\n",
    "    for c in s:\n",
    "        if c in push_set:\n",
    "            stack.append(c)\n",
    "            continue\n",
    "        if not stack:\n",
    "            return False\n",
    "\n",
    "        schar = stack.pop(-1)\n",
    "        if c == ')' and schar != '(':\n",
    "            return False\n",
    "        elif c == '}' and schar != '{':\n",
    "            return False\n",
    "        elif c == ']' and schar != '[':\n",
    "            return False\n",
    "    else:\n",
    "        if stack:\n",
    "            return False\n",
    "        else:\n",
    "            return True\n",
    "\n"
   ]
  },
  {
   "cell_type": "code",
   "execution_count": 114,
   "metadata": {},
   "outputs": [
    {
     "name": "stdout",
     "output_type": "stream",
     "text": [
      "stack ['{']\n",
      "c }\n",
      "schar {\n"
     ]
    },
    {
     "data": {
      "text/plain": [
       "True"
      ]
     },
     "execution_count": 114,
     "metadata": {},
     "output_type": "execute_result"
    }
   ],
   "source": [
    "isValid(\"{}\")"
   ]
  },
  {
   "cell_type": "code",
   "execution_count": 113,
   "metadata": {
    "collapsed": true
   },
   "outputs": [],
   "source": [
    "def isValid(s):\n",
    "    push_set=set(['{','[','('])\n",
    "    stack=[]\n",
    "    for c in s:\n",
    "        if c in push_set:\n",
    "            stack.append(c)\n",
    "            #print('stack',stack)\n",
    "            continue\n",
    "            \n",
    "        schar=stack.pop(-1)\n",
    "        #print('c',c)\n",
    "        #print('schar',schar)\n",
    "        if c==')' and schar!='(':\n",
    "            return False\n",
    "        elif c=='}' and schar!='{':\n",
    "            return False\n",
    "        elif c==']' and schar!='[':\n",
    "            return False\n",
    "    else:\n",
    "        if stack:\n",
    "            return False\n",
    "        else:\n",
    "            return True\n"
   ]
  },
  {
   "cell_type": "code",
   "execution_count": null,
   "metadata": {
    "collapsed": true
   },
   "outputs": [],
   "source": [
    "# Definition for singly-linked list.\n",
    "# class ListNode:\n",
    "#     def __init__(self, x):\n",
    "#         self.val = x\n",
    "#         self.next = None\n",
    "\n",
    "class Solution:\n",
    "    def mergeTwoLists(self, l1, l2):\n",
    "        \"\"\"\n",
    "        :type l1: ListNode\n",
    "        :type l2: ListNode\n",
    "        :rtype: ListNode\n",
    "        \"\"\"\n",
    "        list_ = []\n",
    "        while l1 != None and l2 != None:\n",
    "            if l1.val <= l2.val:\n",
    "                list_ += [l1.val]\n",
    "                l1 = l1.next\n",
    "            else:\n",
    "                list_ += [l2.val]\n",
    "                l2 = l2.next\n",
    "        while l1 != None:\n",
    "            list_ += [l1.val]\n",
    "            l1 = l1.next\n",
    "        while l2 != None:\n",
    "            list_ += [l2.val]\n",
    "            l2 = l2.next            \n",
    "        return list_   "
   ]
  },
  {
   "cell_type": "code",
   "execution_count": 194,
   "metadata": {},
   "outputs": [],
   "source": [
    "def longestPalindrome(s):\n",
    "    \n",
    "    if len(s)==1:\n",
    "        return s\n",
    "    elif len(s)==2:\n",
    "        if s[1:]==s[:-1]:          \n",
    "            print(\"length\", len(s))\n",
    "            return s\n",
    "    else:\n",
    "        longest=3\n",
    "        for i in range(len(s)):\n",
    "            for j in range(i+1,len(s)):\n",
    "                if s[i+j:]==s[::-(i+j+1)]:\n",
    "                    print(\"here\")\n",
    "                    if len(s[i+j:])>=longest:\n",
    "                        longest=len(s[i+j:])\n",
    "                        return s[i+j:]\n",
    "                    else:\n",
    "                        return s[i+j:]\n",
    "\n",
    "\n",
    "            #print(s[i+j:])"
   ]
  },
  {
   "cell_type": "code",
   "execution_count": 215,
   "metadata": {},
   "outputs": [
    {
     "name": "stdout",
     "output_type": "stream",
     "text": [
      "i is: 0\n",
      "j is: 0\n",
      "longest: a\n",
      "length: 1\n",
      "j is: 1\n",
      "i is: 1\n",
      "j is: 0\n",
      "longest: b\n",
      "length: 1\n",
      "j is: 1\n",
      "longest: bb\n",
      "length: 2\n",
      "longest: abba\n",
      "length: 4\n",
      "i is: 2\n",
      "j is: 0\n",
      "j is: 1\n",
      "i is: 3\n",
      "j is: 0\n",
      "j is: 1\n",
      "i is: 4\n",
      "j is: 0\n",
      "j is: 1\n",
      "i is: 5\n",
      "j is: 0\n",
      "j is: 1\n",
      "i+j 6\n"
     ]
    },
    {
     "data": {
      "text/plain": [
       "'abba'"
      ]
     },
     "execution_count": 215,
     "metadata": {},
     "output_type": "execute_result"
    }
   ],
   "source": [
    "longestPalindrome(\"abbaaa\")"
   ]
  },
  {
   "cell_type": "code",
   "execution_count": 209,
   "metadata": {},
   "outputs": [
    {
     "name": "stdout",
     "output_type": "stream",
     "text": [
      "1\n",
      "i ab\n",
      "j ba\n",
      "2\n",
      "i aba\n",
      "j aba\n",
      "3\n",
      "i abad\n",
      "j daba\n",
      "4\n",
      "i abad\n",
      "j daba\n",
      "5\n",
      "i abad\n",
      "j daba\n",
      "6\n",
      "i abad\n",
      "j daba\n"
     ]
    }
   ],
   "source": [
    "s=\"abad\"\n",
    "count=0\n",
    "temp=0\n",
    "for i in range(len(s)):\n",
    "    for j in range(i+1,len(s)):\n",
    "        count=count+1\n",
    "        print(count)\n",
    "        print(\"i\",s[i-temp:i+j+1+temp])\n",
    "        print(\"j\",s[i-temp:i+j+1+temp][::-1])\n",
    "    temp=temp+1\n",
    "        "
   ]
  },
  {
   "cell_type": "code",
   "execution_count": 214,
   "metadata": {
    "collapsed": true
   },
   "outputs": [],
   "source": [
    "def longestPalindrome(s):\n",
    "\n",
    "\n",
    "    \"\"\"\n",
    "    :type s: str\n",
    "    :rtype: str\n",
    "    \"\"\"\n",
    "\n",
    "    if len(s) == 1:\n",
    "        return s\n",
    "\n",
    "    longest = ''\n",
    "    long_len = 0\n",
    "    for i in range(len(s)):\n",
    "        print('i is:',i)\n",
    "        for j in range(2):\n",
    "            print('j is:',j)\n",
    "            if i+j == len(s): \n",
    "                print('i+j',i+j)\n",
    "                break\n",
    "            temp = 0\n",
    "            while i-temp >= 0 and i+j+1+temp <= len(s) and s[i-temp:i+j+1+temp] == s[i-temp:i+j+1+temp][::-1]:\n",
    "                if long_len <= len(s[i-temp:i+j+1+temp]):\n",
    "                    longest = s[i-temp:i+j+1+temp]\n",
    "                    print('longest:',longest)                \n",
    "                    long_len = len(s[i-temp:i+j+1+temp])\n",
    "                    print('length:',long_len)\n",
    "                    if long_len>=1000: break\n",
    "                temp += 1\n",
    "    return longest"
   ]
  },
  {
   "cell_type": "code",
   "execution_count": 246,
   "metadata": {},
   "outputs": [],
   "source": [
    "def threeSum(nums):\n",
    "    \"\"\"\n",
    "    :type nums: List[int]\n",
    "    :rtype: List[List[int]]\n",
    "    \"\"\"\n",
    "    #print(nums)\n",
    "    if len(nums)==3:\n",
    "        if sum(nums)==0:\n",
    "            return nums\n",
    "    elif len(nums)>3:\n",
    "        if len(nums) <3: # deal with special input\n",
    "            return []\n",
    "\n",
    "    nums = sorted(nums) # sorted, O(nlgn)\n",
    "    ans = []\n",
    "\n",
    "    for i in range(len(nums) -2):\n",
    "        j = i+1\n",
    "        k = len(nums) -1 # hence i < j < k\n",
    "\n",
    "        while j<k: # if not cross line\n",
    "            temp_sum = nums[i] + nums[j] + nums[k]\n",
    "            if temp_sum == 0:\n",
    "                ans.append((nums[i], nums[j], nums[k]))\n",
    "\n",
    "            if temp_sum > 0: # which means we need smaller sum, move k backward, remember we sort the array\n",
    "                k -= 1\n",
    "            else:\n",
    "                j += 1\n",
    "                \n",
    "            while j < k and nums[j] == nums[j+1]:\n",
    "                j += 1\n",
    "            while j < k and nums[k] == nums[k-1]:\n",
    "                k -= 1\n",
    "\n",
    "    return list(set(tuple(ans)))\n",
    "    #return ans\n"
   ]
  },
  {
   "cell_type": "code",
   "execution_count": 247,
   "metadata": {},
   "outputs": [
    {
     "data": {
      "text/plain": [
       "[(-1, -1, 2), (-1, 0, 1), (-1, 0, 1)]"
      ]
     },
     "execution_count": 247,
     "metadata": {},
     "output_type": "execute_result"
    }
   ],
   "source": [
    "threeSum([1,0,-1,-1,2])"
   ]
  },
  {
   "cell_type": "code",
   "execution_count": 238,
   "metadata": {},
   "outputs": [
    {
     "data": {
      "text/plain": [
       "[0, 1, 2, -1]"
      ]
     },
     "execution_count": 238,
     "metadata": {},
     "output_type": "execute_result"
    }
   ],
   "source": [
    "l=[1,0,-1,-1,2]\n",
    "list(set(tuple(l)))"
   ]
  },
  {
   "cell_type": "code",
   "execution_count": null,
   "metadata": {
    "collapsed": true
   },
   "outputs": [],
   "source": [
    "def fourSum(self, nums, target):\n",
    "    \n",
    "    if len(nums)==3:\n",
    "        if sum(nums)==0:\n",
    "            return nums\n",
    "    elif len(nums)>3:\n",
    "        if len(nums) <3: # deal with special input\n",
    "            return []\n",
    "\n",
    "    nums = sorted(nums) # sorted, O(nlgn)\n",
    "    ans = []\n",
    "\n",
    "    for i in range(len(nums) -2):\n",
    "        j = i+1\n",
    "        n=j+1\n",
    "        k = len(nums) -1 # hence i < j < k\n",
    "\n",
    "        while j<k: # if not cross line\n",
    "            temp_sum = nums[i] + nums[j] + nums[k]\n",
    "            if temp_sum == 0:\n",
    "                ans.append((nums[i], nums[j], nums[k]))\n",
    "\n",
    "            if temp_sum > 0: # which means we need smaller sum, move k backward, remember we sort the array\n",
    "                k -= 1\n",
    "            else:\n",
    "                j += 1\n",
    "                \n",
    "            while j < k and nums[j] == nums[j+1]:\n",
    "                j += 1\n",
    "            while j < k and nums[k] == nums[k-1]:\n",
    "                k -= 1\n",
    "\n",
    "    return list(set(tuple(ans)))\n",
    "    \n"
   ]
  }
 ],
 "metadata": {
  "kernelspec": {
   "display_name": "Python 3",
   "language": "python",
   "name": "python3"
  },
  "language_info": {
   "codemirror_mode": {
    "name": "ipython",
    "version": 3
   },
   "file_extension": ".py",
   "mimetype": "text/x-python",
   "name": "python",
   "nbconvert_exporter": "python",
   "pygments_lexer": "ipython3",
   "version": "3.6.3"
  }
 },
 "nbformat": 4,
 "nbformat_minor": 2
}
