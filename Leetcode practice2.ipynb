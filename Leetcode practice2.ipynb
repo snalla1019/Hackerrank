{
 "cells": [
  {
   "cell_type": "code",
   "execution_count": 31,
   "metadata": {},
   "outputs": [
    {
     "name": "stdout",
     "output_type": "stream",
     "text": [
      "2\n",
      "4\n",
      "4 3 2 4\n"
     ]
    },
    {
     "ename": "IndexError",
     "evalue": "list index out of range",
     "output_type": "error",
     "traceback": [
      "\u001b[1;31m---------------------------------------------------------------------------\u001b[0m",
      "\u001b[1;31mIndexError\u001b[0m                                Traceback (most recent call last)",
      "\u001b[1;32m<ipython-input-31-6769c7a2f72e>\u001b[0m in \u001b[0;36m<module>\u001b[1;34m()\u001b[0m\n\u001b[0;32m      5\u001b[0m     \u001b[0ml\u001b[0m \u001b[1;33m=\u001b[0m \u001b[1;33m[\u001b[0m\u001b[0mint\u001b[0m\u001b[1;33m(\u001b[0m\u001b[0mx\u001b[0m\u001b[1;33m)\u001b[0m \u001b[1;32mfor\u001b[0m \u001b[0mx\u001b[0m \u001b[1;32min\u001b[0m \u001b[0minput\u001b[0m\u001b[1;33m(\u001b[0m\u001b[1;33m)\u001b[0m\u001b[1;33m.\u001b[0m\u001b[0msplit\u001b[0m\u001b[1;33m(\u001b[0m\u001b[1;33m)\u001b[0m\u001b[1;33m]\u001b[0m\u001b[1;33m\u001b[0m\u001b[0m\n\u001b[0;32m      6\u001b[0m     \u001b[1;32mfor\u001b[0m \u001b[0mj\u001b[0m \u001b[1;32min\u001b[0m \u001b[0mrange\u001b[0m\u001b[1;33m(\u001b[0m\u001b[0mn\u001b[0m\u001b[1;33m)\u001b[0m\u001b[1;33m:\u001b[0m\u001b[1;33m\u001b[0m\u001b[0m\n\u001b[1;32m----> 7\u001b[1;33m         \u001b[1;32mif\u001b[0m \u001b[0ml\u001b[0m\u001b[1;33m[\u001b[0m\u001b[1;36m0\u001b[0m\u001b[1;33m]\u001b[0m\u001b[1;33m<\u001b[0m \u001b[0ml\u001b[0m\u001b[1;33m[\u001b[0m\u001b[1;33m-\u001b[0m\u001b[1;36m1\u001b[0m\u001b[1;33m]\u001b[0m\u001b[1;33m:\u001b[0m\u001b[1;33m\u001b[0m\u001b[0m\n\u001b[0m\u001b[0;32m      8\u001b[0m             \u001b[0mnew\u001b[0m\u001b[1;33m.\u001b[0m\u001b[0mappend\u001b[0m\u001b[1;33m(\u001b[0m\u001b[0ml\u001b[0m\u001b[1;33m[\u001b[0m\u001b[1;33m-\u001b[0m\u001b[1;36m1\u001b[0m\u001b[1;33m]\u001b[0m\u001b[1;33m)\u001b[0m\u001b[1;33m\u001b[0m\u001b[0m\n\u001b[0;32m      9\u001b[0m             \u001b[0ml\u001b[0m\u001b[1;33m.\u001b[0m\u001b[0mpop\u001b[0m\u001b[1;33m(\u001b[0m\u001b[1;33m)\u001b[0m\u001b[1;33m\u001b[0m\u001b[0m\n",
      "\u001b[1;31mIndexError\u001b[0m: list index out of range"
     ]
    }
   ],
   "source": [
    "new=[]\n",
    "n_rounds=int(input())\n",
    "for i in range(n_rounds):\n",
    "    n =int(input())\n",
    "    l = [int(x) for x in input().split()]\n",
    "    for j in range(n):\n",
    "        if l[0]< l[-1]:\n",
    "            new.append(l[-1])\n",
    "            l.pop()\n",
    "        else:\n",
    "            new.append(l[0])\n",
    "        \n",
    "        list1 = [int(x) for x in l]    \n",
    "        if new==l.sort(reverse=True):\n",
    "            print(\"Yes\")\n",
    "        l.clear()\n",
    "\n",
    "#print(n)\n",
    "#print(l)"
   ]
  },
  {
   "cell_type": "code",
   "execution_count": 2,
   "metadata": {},
   "outputs": [
    {
     "name": "stdout",
     "output_type": "stream",
     "text": [
      "3\n",
      "5\n",
      "7\n"
     ]
    }
   ],
   "source": [
    "for i in range(3,9,2):\n",
    "    print(i)"
   ]
  },
  {
   "cell_type": "code",
   "execution_count": 30,
   "metadata": {},
   "outputs": [
    {
     "name": "stdout",
     "output_type": "stream",
     "text": [
      "[7, 6, 5, 2, 1]\n"
     ]
    }
   ],
   "source": [
    "list1=[2,5,6,7,1]\n",
    "list1 = [int(x) for x in list1]\n",
    "list1.sort(reverse=True)\n",
    "print(list1)"
   ]
  },
  {
   "cell_type": "code",
   "execution_count": 25,
   "metadata": {},
   "outputs": [
    {
     "name": "stdout",
     "output_type": "stream",
     "text": [
      "[1, 2, 3, 4, 10, 22, 23, 200]\n"
     ]
    }
   ],
   "source": [
    "list1 = [\"1\",\"10\",\"3\",\"22\",\"23\",\"4\",\"2\",\"200\"]\n",
    "list1 = [int(x) for x in list1]\n",
    "list1.sort()\n",
    "print(list1)2"
   ]
  },
  {
   "cell_type": "code",
   "execution_count": 34,
   "metadata": {},
   "outputs": [
    {
     "name": "stdout",
     "output_type": "stream",
     "text": [
      "2\n",
      "4\n",
      "4 3 2 4\n",
      "Yes\n",
      "3\n",
      "4 8 0\n",
      "No\n"
     ]
    }
   ],
   "source": [
    "for _ in range(int(input())): \n",
    "    m, l = int(input()), [int(x) for x in input().split()]\n",
    "    left = True\n",
    "    valid = True\n",
    "    \n",
    "    for x in range(1,m):\n",
    "        if left:\n",
    "            if l[x] > l[x-1]:\n",
    "                left = False\n",
    "        else:\n",
    "            if l[x] < l[x-1]:\n",
    "                valid = False\n",
    "    \n",
    "    print(\"Yes\" if valid else \"No\")"
   ]
  },
  {
   "cell_type": "code",
   "execution_count": null,
   "metadata": {
    "collapsed": true
   },
   "outputs": [],
   "source": [
    "T = int(input())\n",
    "for i in range(T):\n",
    "    n = int(input())\n",
    "    sizes = list(map(int, input().split()))\n",
    "    print(sizes)\n",
    "    x, y = 0, n - 1\n",
    "  \n",
    "    while x < n - 1 and sizes[x] >= sizes[x + 1]:\n",
    "        x += 1\n",
    "    while y > 0 and sizes[y] >= sizes[y - 1]:\n",
    "        y -= 1\n",
    "print('Yes' if x >= y else 'No')"
   ]
  },
  {
   "cell_type": "code",
   "execution_count": 40,
   "metadata": {},
   "outputs": [
    {
     "name": "stdout",
     "output_type": "stream",
     "text": [
      "1\n",
      "5\n",
      "4 3 2 4 5\n",
      "Yes\n"
     ]
    }
   ],
   "source": [
    "from collections import deque\n",
    "for _ in range(int(input())):\n",
    "    n = int(input())\n",
    "    s = deque(map(int,input().split()))\n",
    "    for e in range(n-1):\n",
    "        if s[0] >= s[1]:\n",
    "            s.popleft()\n",
    "        elif s[-1] >= s[-2]:\n",
    "            s.pop()\n",
    "    if len(s) > 1:\n",
    "        print('No')\n",
    "    else:\n",
    "        print('Yes')"
   ]
  },
  {
   "cell_type": "code",
   "execution_count": 78,
   "metadata": {},
   "outputs": [
    {
     "name": "stdout",
     "output_type": "stream",
     "text": [
      "abcdde\n",
      "d 2\n",
      "a 1\n",
      "b 1\n"
     ]
    }
   ],
   "source": [
    "from collections import Counter\n",
    "s=map(str,input().strip())\n",
    "count=Counter(s)\n",
    "for key,val in sorted(count.items(),key=lambda x: (-x[1],x[0]))[:3]:\n",
    "    print(key,val)\n",
    "\n",
    "\n",
    "\n",
    "#print(sorted(count.values()))\n",
    "\n",
    "    \n"
   ]
  },
  {
   "cell_type": "code",
   "execution_count": 16,
   "metadata": {},
   "outputs": [
    {
     "name": "stdout",
     "output_type": "stream",
     "text": [
      "0,1\n",
      "0,0\n",
      "\n",
      "0\n"
     ]
    }
   ],
   "source": [
    "keepReading = True\n",
    "while(keepReading):\n",
    "    out=[]\n",
    "    val = input()\n",
    "    if(val == \"\"):\n",
    "        keepReading = False\n",
    "    else:\n",
    "\n",
    "        n,m=val.split(\",\")\n",
    "        \n",
    "        if int(n)==0 & int(m)==0:\n",
    "            out.append(0)\n",
    "        elif int(n)==0 & int(m)==1:\n",
    "            out.append(-25.1)\n",
    "        elif int(n)==1 & int(m)==0:\n",
    "            out.append(-50)\n",
    "        else:\n",
    "            out.append(50)\n",
    "\n",
    "print(sum(out))\n",
    "\n",
    "\n"
   ]
  },
  {
   "cell_type": "code",
   "execution_count": 26,
   "metadata": {},
   "outputs": [
    {
     "name": "stdout",
     "output_type": "stream",
     "text": [
      "0,0\n",
      "0,1\n",
      "1,0\n",
      "1,1\n",
      "1,1\n",
      "\n",
      "24.900000000000006\n"
     ]
    }
   ],
   "source": [
    "# Enter your code here. Read input from STDIN. Print output to STDOUT\n",
    "out=[]\n",
    "keepReading = True\n",
    "while(keepReading):\n",
    "    val = input()\n",
    "    if(val == \"\"):\n",
    "        keepReading = False\n",
    "    else:\n",
    "        n,m=val.split(\",\")       \n",
    "        if int(n)==0 and int(m)==0:\n",
    "            out.append(0)\n",
    "        elif int(n)==0 and int(m)==1:\n",
    "            out.append(-25.1)\n",
    "        elif int(n)==1 and int(m)==0:\n",
    "            out.append(-50)\n",
    "        else:\n",
    "            out.append(50)\n",
    "\n",
    "print(sum((out)))"
   ]
  },
  {
   "cell_type": "code",
   "execution_count": null,
   "metadata": {
    "collapsed": true
   },
   "outputs": [],
   "source": [
    "0,0\n",
    "0,1\n",
    "1,0\n",
    "1,1\n",
    "1,1"
   ]
  },
  {
   "cell_type": "code",
   "execution_count": 90,
   "metadata": {},
   "outputs": [
    {
     "name": "stdout",
     "output_type": "stream",
     "text": [
      "<class 'collections.Counter'>\n",
      "b 3\n",
      "c 3\n",
      "a 2\n"
     ]
    }
   ],
   "source": [
    "from collections import Counter\n",
    "\n",
    "s=\"aabbbcccdde\"\n",
    "#s = input().strip()\n",
    "c = Counter(s)\n",
    "print(type(c))\n",
    "for element in sorted(c.items(), key=lambda x: (-x[1], x[0]))[:3]:\n",
    "    #print(element)\n",
    "\n",
    "\n",
    "    print(\" \".join(str(e) for e in element), sep=\" \")"
   ]
  },
  {
   "cell_type": "code",
   "execution_count": 92,
   "metadata": {},
   "outputs": [
    {
     "name": "stdout",
     "output_type": "stream",
     "text": [
      "2\n",
      "hi jdk 88\n",
      "hi jdk\n",
      " \n",
      "88\n",
      "88\n",
      "hi jdk 90\n",
      "hi jdk\n",
      " \n",
      "90\n",
      "178\n",
      "hi jdk 178\n"
     ]
    }
   ],
   "source": [
    "from collections import OrderedDict\n",
    "d = OrderedDict()\n",
    "for _ in range(int(input())):\n",
    "    item, space, quantity = input().rpartition(' ')\n",
    "    #print(item)\n",
    "    #print(space)\n",
    "    #print(quantity)\n",
    "    d[item] = d.get(item, 0) + int(quantity)\n",
    "    #print(d[item])\n",
    "for item, quantity in d.items():\n",
    "    print(item, quantity)"
   ]
  },
  {
   "cell_type": "code",
   "execution_count": 93,
   "metadata": {},
   "outputs": [
    {
     "name": "stdout",
     "output_type": "stream",
     "text": [
      "1 2 3\n",
      "3 4\n",
      "(1, 3) (1, 4) (2, 3) (2, 4) (3, 3) (3, 4)\n"
     ]
    }
   ],
   "source": [
    "from itertools import product\n",
    "a=list(map(int,input().split()))\n",
    "b=list(map(int,input().split()))\n",
    "print(*product(a,b))\n",
    "\n"
   ]
  },
  {
   "cell_type": "code",
   "execution_count": 94,
   "metadata": {},
   "outputs": [
    {
     "name": "stdout",
     "output_type": "stream",
     "text": [
      "hack 2\n",
      "ac\n",
      "ah\n",
      "ak\n",
      "ca\n",
      "ch\n",
      "ck\n",
      "ha\n",
      "hc\n",
      "hk\n",
      "ka\n",
      "kc\n",
      "kh\n"
     ]
    }
   ],
   "source": [
    "from itertools import permutations\n",
    "\n",
    "s, n = input().split()\n",
    "for i in list(permutations(sorted(s), int(n))):\n",
    "    print(*i, sep = \"\")"
   ]
  },
  {
   "cell_type": "code",
   "execution_count": 95,
   "metadata": {},
   "outputs": [
    {
     "name": "stdout",
     "output_type": "stream",
     "text": [
      "hack 2\n",
      "a\n",
      "c\n",
      "h\n",
      "k\n",
      "ac\n",
      "ah\n",
      "ak\n",
      "ch\n",
      "ck\n",
      "hk\n"
     ]
    }
   ],
   "source": [
    "from itertools import combinations #print untill k combinations 1.. k \n",
    "s,k=input().split()\n",
    "\n",
    "for j in range(1,int(k)+1):\n",
    "    for i in list(combinations(sorted(s),j)):\n",
    "        print(*i,sep=\"\")"
   ]
  },
  {
   "cell_type": "code",
   "execution_count": null,
   "metadata": {
    "collapsed": true
   },
   "outputs": [],
   "source": [
    "from itertools import groupby\n",
    "print([(len(list(c)),int(k)) for k, c in groupby(input())])\n",
    "  #  print([*len(list(c)),int(k)])\n",
    "#print(*[(len(list(c)), int(k)) for k, c in groupby(input())])"
   ]
  },
  {
   "cell_type": "code",
   "execution_count": 8,
   "metadata": {},
   "outputs": [
    {
     "name": "stdout",
     "output_type": "stream",
     "text": [
      "p= [2, 3, 2, 2, 6, 1, 1, 1, 1, 1]\n",
      "1\n",
      "6\n",
      "NO\n"
     ]
    }
   ],
   "source": [
    "from collections import *\n",
    "s=\"aabbbccddeeeeeefghik\"\n",
    "s1 = Counter(s)\n",
    "p=[]\n",
    "diff=[]\n",
    "for i,j in s1.items():\n",
    "    p.append(j)\n",
    "\n",
    "print(\"p=\",p)\n",
    "a=max(p,key=p.count)\n",
    "print(a)\n",
    "b = max(p)\n",
    "print(b)\n",
    "\n",
    "if p.count(a)==p.count(b) or p.count(a)>p.count(b):\n",
    "    max_num = a \n",
    "else:\n",
    "    max_num = b     \n",
    "\n",
    "for i in range(len(p)):\n",
    "    if abs(max_num-p[i])==1:\n",
    "        diff.append(p[i])\n",
    "\n",
    "sum_all= (sum(1 for i in p if i==max_num))\n",
    "\n",
    "if sum_all==len(p):\n",
    "    print(\"YES\")\n",
    "\n",
    "elif len(diff)==1:\n",
    "    print(\"YES\")\n",
    "\n",
    "else:\n",
    "    print(\"NO\")\n",
    "    "
   ]
  },
  {
   "cell_type": "code",
   "execution_count": 36,
   "metadata": {},
   "outputs": [
    {
     "name": "stdout",
     "output_type": "stream",
     "text": [
      "a a\n",
      "abcba abcba\n",
      "b b\n",
      "bcb bcb\n",
      "c c\n",
      "b b\n",
      "bab bab\n",
      "a a\n",
      "aba aba\n",
      "b b\n",
      "a a\n",
      "11\n"
     ]
    }
   ],
   "source": [
    "s=\"abcbaba\"\n",
    "n=len(s)\n",
    "count=0\n",
    "for i in range(n):\n",
    "    for j in range(i,len(s)):\n",
    "        #print(s[i:j+1],s[i:j+1][::-1])\n",
    "        if s[i:j+1]==s[i:j+1][::-1]:\n",
    "            print(s[i:j+1],s[i:j+1][::-1])\n",
    "            count=count+1\n",
    "            \n",
    "print(count)"
   ]
  },
  {
   "cell_type": "code",
   "execution_count": 11,
   "metadata": {},
   "outputs": [
    {
     "data": {
      "text/plain": [
       "'sa'"
      ]
     },
     "execution_count": 11,
     "metadata": {},
     "output_type": "execute_result"
    }
   ],
   "source": [
    "s=\"asasd\"\n",
    "s[0:1+1]\n",
    "s[0:1+1][::-1]"
   ]
  },
  {
   "cell_type": "code",
   "execution_count": 43,
   "metadata": {},
   "outputs": [
    {
     "name": "stdout",
     "output_type": "stream",
     "text": [
      "b\n",
      "c\n",
      "b\n",
      "a\n",
      "b\n",
      "a\n"
     ]
    },
    {
     "data": {
      "text/plain": [
       "10"
      ]
     },
     "execution_count": 43,
     "metadata": {},
     "output_type": "execute_result"
    }
   ],
   "source": [
    "def triangular_number(n):\n",
    "    return n * (n + 1) // 2\n",
    "\n",
    "# Complete the substrCount function below.\n",
    "def substrCount(n, s):\n",
    "    count = 0\n",
    "    consecutive = []\n",
    "    for i in range(n):\n",
    "        if not consecutive or consecutive[0] == s[i]:\n",
    "            consecutive.append(s[i])\n",
    "        else:\n",
    "            j = 1\n",
    "            c_n = len(consecutive)\n",
    "            while i + j < n and j <= c_n and consecutive[0] == s[i+j]:\n",
    "                count += 1\n",
    "                j += 1\n",
    "                \n",
    "            count += triangular_number(c_n)\n",
    "            consecutive = [s[i]]\n",
    "            print(s[i])\n",
    "            \n",
    "    count += triangular_number(len(consecutive))\n",
    "    return count\n",
    "\n",
    "substrCount(7,\"abcbaba\")"
   ]
  },
  {
   "cell_type": "code",
   "execution_count": null,
   "metadata": {
    "collapsed": true
   },
   "outputs": [],
   "source": []
  },
  {
   "cell_type": "code",
   "execution_count": 26,
   "metadata": {},
   "outputs": [
    {
     "name": "stdout",
     "output_type": "stream",
     "text": [
      "a\n",
      "ab\n",
      "abc\n",
      "abcd\n",
      "abcda\n",
      "abcdae\n",
      "b\n",
      "bc\n",
      "bcd\n",
      "bcda\n",
      "bcdae\n",
      "c\n",
      "cd\n",
      "cda\n",
      "cdae\n",
      "d\n",
      "da\n",
      "dae\n",
      "a\n",
      "ae\n",
      "e\n"
     ]
    }
   ],
   "source": [
    "def substrings(string):\n",
    "    for i in range(len(string)):\n",
    "        for j in range(i, len(string)):\n",
    "            yield string[i:j+1]\n",
    "k=substrings(\"abcdae\")\n",
    "for i in k:\n",
    "    print(i)"
   ]
  },
  {
   "cell_type": "code",
   "execution_count": 37,
   "metadata": {},
   "outputs": [
    {
     "name": "stdout",
     "output_type": "stream",
     "text": [
      "a\n",
      "abcba\n",
      "b\n",
      "bcb\n",
      "c\n",
      "b\n",
      "bab\n",
      "a\n",
      "aba\n",
      "b\n",
      "a\n"
     ]
    }
   ],
   "source": [
    "def palindrome_substrings(string):\n",
    "    return (i for i in substrings(string) if is_palindrome(i))\n",
    "\n",
    "k=palindrome_substrings(\"abcbaba\")\n",
    "for i in k:\n",
    "    print(i)"
   ]
  },
  {
   "cell_type": "code",
   "execution_count": 40,
   "metadata": {},
   "outputs": [
    {
     "name": "stdout",
     "output_type": "stream",
     "text": [
      "True\n"
     ]
    }
   ],
   "source": [
    "def is_palindrome(word):\n",
    "    return all(word[i] == word[-1*(i+1)] for i in range(len(word)//2))\n",
    "\n",
    "k=is_palindrome(\"aba\")\n",
    "print(k)"
   ]
  },
  {
   "cell_type": "code",
   "execution_count": 55,
   "metadata": {},
   "outputs": [
    {
     "name": "stdout",
     "output_type": "stream",
     "text": [
      "[[0, 0, 0, 0, 0, 0], [0, 0, 0, 0, 0, 0], [0, 0, 0, 0, 0, 0], [0, 0, 0, 0, 0, 0], [0, 0, 0, 0, 0, 0], [0, 0, 0, 0, 0, 0]]\n",
      "second if [[0, 0, 0, 0, 0, 0], [0, 0, 0, 0, 0, 0], [0, 0, 0, 0, 0, 0], [0, 0, 0, 0, 0, 0], [0, 0, 0, 0, 0, 0], [0, 0, 0, 0, 0, 0]]\n",
      "second if [[0, 0, 0, 0, 0, 0], [0, 0, 0, 0, 0, 0], [0, 0, 0, 0, 0, 0], [0, 0, 0, 0, 0, 0], [0, 0, 0, 0, 0, 0], [0, 0, 0, 0, 0, 0]]\n",
      "second if [[0, 0, 0, 0, 0, 0], [0, 0, 0, 0, 0, 0], [0, 0, 0, 0, 0, 0], [0, 0, 0, 0, 0, 0], [0, 0, 0, 0, 0, 0], [0, 0, 0, 0, 0, 0]]\n",
      "second if [[0, 0, 0, 0, 0, 0], [0, 0, 0, 0, 0, 0], [0, 0, 0, 0, 0, 0], [0, 0, 0, 0, 0, 0], [0, 0, 0, 0, 0, 0], [0, 0, 0, 0, 0, 0]]\n",
      "second if [[0, 0, 0, 0, 0, 0], [0, 0, 0, 0, 0, 0], [0, 0, 0, 0, 0, 0], [0, 0, 0, 0, 0, 0], [0, 0, 0, 0, 0, 0], [0, 0, 0, 0, 0, 0]]\n",
      "second if [[0, 0, 0, 0, 0, 0], [0, 0, 0, 0, 0, 0], [0, 0, 0, 0, 0, 0], [0, 0, 0, 0, 0, 0], [0, 0, 0, 0, 0, 0], [0, 0, 0, 0, 0, 0]]\n",
      "1 1\n",
      "a a\n",
      "first if [[0, 0, 0, 0, 0, 0], [0, 0, 0, 0, 0, 0], [0, 0, 1, 0, 0, 0], [0, 0, 0, 0, 0, 0], [0, 0, 0, 0, 0, 0], [0, 0, 0, 0, 0, 0]]\n",
      "second if [[0, 0, 0, 0, 0, 0], [0, 0, 0, 0, 0, 0], [0, 0, 1, 1, 0, 0], [0, 0, 0, 0, 0, 0], [0, 0, 0, 0, 0, 0], [0, 0, 0, 0, 0, 0]]\n",
      "second if [[0, 0, 0, 0, 0, 0], [0, 0, 0, 0, 0, 0], [0, 0, 1, 1, 1, 0], [0, 0, 0, 0, 0, 0], [0, 0, 0, 0, 0, 0], [0, 0, 0, 0, 0, 0]]\n",
      "second if [[0, 0, 0, 0, 0, 0], [0, 0, 0, 0, 0, 0], [0, 0, 1, 1, 1, 1], [0, 0, 0, 0, 0, 0], [0, 0, 0, 0, 0, 0], [0, 0, 0, 0, 0, 0]]\n",
      "second if [[0, 0, 0, 0, 0, 0], [0, 0, 0, 0, 0, 0], [0, 0, 1, 1, 1, 1], [0, 0, 0, 0, 0, 0], [0, 0, 0, 0, 0, 0], [0, 0, 0, 0, 0, 0]]\n",
      "second if [[0, 0, 0, 0, 0, 0], [0, 0, 0, 0, 0, 0], [0, 0, 1, 1, 1, 1], [0, 0, 1, 0, 0, 0], [0, 0, 0, 0, 0, 0], [0, 0, 0, 0, 0, 0]]\n",
      "second if [[0, 0, 0, 0, 0, 0], [0, 0, 0, 0, 0, 0], [0, 0, 1, 1, 1, 1], [0, 0, 1, 1, 0, 0], [0, 0, 0, 0, 0, 0], [0, 0, 0, 0, 0, 0]]\n",
      "second if [[0, 0, 0, 0, 0, 0], [0, 0, 0, 0, 0, 0], [0, 0, 1, 1, 1, 1], [0, 0, 1, 1, 1, 0], [0, 0, 0, 0, 0, 0], [0, 0, 0, 0, 0, 0]]\n",
      "second if [[0, 0, 0, 0, 0, 0], [0, 0, 0, 0, 0, 0], [0, 0, 1, 1, 1, 1], [0, 0, 1, 1, 1, 1], [0, 0, 0, 0, 0, 0], [0, 0, 0, 0, 0, 0]]\n",
      "second if [[0, 0, 0, 0, 0, 0], [0, 0, 0, 0, 0, 0], [0, 0, 1, 1, 1, 1], [0, 0, 1, 1, 1, 1], [0, 0, 0, 0, 0, 0], [0, 0, 0, 0, 0, 0]]\n",
      "second if [[0, 0, 0, 0, 0, 0], [0, 0, 0, 0, 0, 0], [0, 0, 1, 1, 1, 1], [0, 0, 1, 1, 1, 1], [0, 0, 1, 0, 0, 0], [0, 0, 0, 0, 0, 0]]\n",
      "second if [[0, 0, 0, 0, 0, 0], [0, 0, 0, 0, 0, 0], [0, 0, 1, 1, 1, 1], [0, 0, 1, 1, 1, 1], [0, 0, 1, 1, 0, 0], [0, 0, 0, 0, 0, 0]]\n",
      "second if [[0, 0, 0, 0, 0, 0], [0, 0, 0, 0, 0, 0], [0, 0, 1, 1, 1, 1], [0, 0, 1, 1, 1, 1], [0, 0, 1, 1, 1, 0], [0, 0, 0, 0, 0, 0]]\n",
      "second if [[0, 0, 0, 0, 0, 0], [0, 0, 0, 0, 0, 0], [0, 0, 1, 1, 1, 1], [0, 0, 1, 1, 1, 1], [0, 0, 1, 1, 1, 1], [0, 0, 0, 0, 0, 0]]\n",
      "second if [[0, 0, 0, 0, 0, 0], [0, 0, 0, 0, 0, 0], [0, 0, 1, 1, 1, 1], [0, 0, 1, 1, 1, 1], [0, 0, 1, 1, 1, 1], [0, 0, 0, 0, 0, 0]]\n",
      "second if [[0, 0, 0, 0, 0, 0], [0, 0, 0, 0, 0, 0], [0, 0, 1, 1, 1, 1], [0, 0, 1, 1, 1, 1], [0, 0, 1, 1, 1, 1], [0, 0, 1, 0, 0, 0]]\n",
      "second if [[0, 0, 0, 0, 0, 0], [0, 0, 0, 0, 0, 0], [0, 0, 1, 1, 1, 1], [0, 0, 1, 1, 1, 1], [0, 0, 1, 1, 1, 1], [0, 0, 1, 1, 0, 0]]\n",
      "second if [[0, 0, 0, 0, 0, 0], [0, 0, 0, 0, 0, 0], [0, 0, 1, 1, 1, 1], [0, 0, 1, 1, 1, 1], [0, 0, 1, 1, 1, 1], [0, 0, 1, 1, 1, 0]]\n",
      "4 4\n",
      "y y\n",
      "first if [[0, 0, 0, 0, 0, 0], [0, 0, 0, 0, 0, 0], [0, 0, 1, 1, 1, 1], [0, 0, 1, 1, 1, 1], [0, 0, 1, 1, 1, 1], [0, 0, 1, 1, 1, 2]]\n",
      "[[0, 0, 0, 0, 0, 0], [0, 0, 0, 0, 0, 0], [0, 0, 1, 1, 1, 1], [0, 0, 1, 1, 1, 1], [0, 0, 1, 1, 1, 1], [0, 0, 1, 1, 1, 2]]\n",
      "2\n"
     ]
    }
   ],
   "source": [
    "def lcs(a, b):\n",
    "    lengths = [[0 for j in range(len(b)+1)] for i in range(len(a)+1)]\n",
    "    print(lengths)\n",
    "    for i, x in enumerate(a):\n",
    "        #print(\"a is\",i,x)\n",
    "        for j, y in enumerate(b):\n",
    "            #print(\"b is\",j,y)\n",
    "            if x == y:\n",
    "                print(i,j)\n",
    "                print(x,y)\n",
    "                lengths[i+1][j+1] = lengths[i][j] + 1\n",
    "                print(\"first if\",lengths)\n",
    "            else:\n",
    "                lengths[i+1][j+1] = \\\n",
    "                    max(lengths[i+1][j], lengths[i][j+1])\n",
    "                print(\"second if\",lengths)\n",
    "\n",
    "    print(lengths)\n",
    "    return lengths[-1][-1]\n",
    " \n",
    "def main():\n",
    "    s1 = \"harry\"\n",
    "    s2 = \"sally\"\n",
    "    print(lcs(s1,s2))\n",
    "     \n",
    "if __name__ == '__main__':\n",
    "    main()"
   ]
  },
  {
   "cell_type": "markdown",
   "metadata": {},
   "source": [
    "1# Enter your code here. Read input from STDIN. Print output to STDOUT\n",
    "import math\n",
    "\n",
    "list1 = input().split( )\n",
    "list1 = [float(i) for i in list1]\n",
    "\n",
    "mean = sum(list1)/len(list1)\n",
    "\n",
    "s = 0\n",
    "for val in list1:\n",
    "    s += (mean - val)*(mean - val)\n",
    "s = s/(len(list1) - 1)\n",
    "s = math.sqrt(s)\n",
    "\n",
    "norm=[]\n",
    "for val in list1:\n",
    "    norm.append(abs(val-mean)/s)\n",
    "\n",
    "print(\"%.3f\" % sum(norm))"
   ]
  },
  {
   "cell_type": "code",
   "execution_count": null,
   "metadata": {
    "collapsed": true
   },
   "outputs": [],
   "source": [
    "string = input()\n",
    "chars = {}\n",
    "\n",
    "for i in string.lower():\n",
    "    if(i in chars):\n",
    "        chars[i] += 1\n",
    "    else:\n",
    "        if(i != \" \"):\n",
    "            chars[i] = 1\n",
    "\n",
    "ans = \"\"\n",
    "\n",
    "# for i in chars:\n",
    "# ans = ans + i + \" \" + str(chars[i]) + \" \"\n",
    "\n",
    "printed = {}\n",
    "for i in string.lower():\n",
    "    if(i in printed):\n",
    "        printed[i] += 1\n",
    "    else:\n",
    "        if(i != \" \"):\n",
    "            ans = ans + i + \" \" + str(chars[i]) + \" \"\n",
    "            printed[i] = 1\n",
    "\n",
    "print(ans)"
   ]
  },
  {
   "cell_type": "code",
   "execution_count": null,
   "metadata": {
    "collapsed": true
   },
   "outputs": [],
   "source": [
    "# Enter your code here. Read input from STDIN. Print output to STDOUT\n",
    "import math\n",
    "\n",
    "list1 = input().split( )\n",
    "list1 = [float(i) for i in list1]\n",
    "\n",
    "mean = sum(list1)/len(list1)\n",
    "\n",
    "s = 0\n",
    "for val in list1:\n",
    "    s += (mean - val)*(mean - val)\n",
    "s = s/(len(list1) - 1)\n",
    "s = math.sqrt(s)\n",
    "\n",
    "norm=[]\n",
    "for val in list1:\n",
    "    norm.append(abs(val-mean)/s)\n",
    "\n",
    "print(\"%.3f\" % sum(norm))"
   ]
  },
  {
   "cell_type": "code",
   "execution_count": null,
   "metadata": {
    "collapsed": true
   },
   "outputs": [],
   "source": [
    "# Enter your code here. Read input from STDIN. Print output to STDOUT\n",
    "list1 = input().split(\",\")\n",
    "list2 = input().split(\",\")\n",
    "max = 0\n",
    "\n",
    "for (index, val) in enumerate(list1):\n",
    "    if(max < abs(index - list2.index(val))):\n",
    "        max = abs(index - list2.index(val))\n",
    "\n",
    "print(max)\n",
    "\n"
   ]
  }
 ],
 "metadata": {
  "kernelspec": {
   "display_name": "Python 3",
   "language": "python",
   "name": "python3"
  },
  "language_info": {
   "codemirror_mode": {
    "name": "ipython",
    "version": 3
   },
   "file_extension": ".py",
   "mimetype": "text/x-python",
   "name": "python",
   "nbconvert_exporter": "python",
   "pygments_lexer": "ipython3",
   "version": "3.6.3"
  }
 },
 "nbformat": 4,
 "nbformat_minor": 2
}
